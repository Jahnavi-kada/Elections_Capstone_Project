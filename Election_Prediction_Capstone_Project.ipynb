{
 "cells": [
  {
   "cell_type": "markdown",
   "id": "1d42ebd6",
   "metadata": {},
   "source": [
    "# <center>Predicting India's 2024 Election Results using Advanced Analytics"
   ]
  },
  {
   "cell_type": "markdown",
   "id": "6925ce72",
   "metadata": {},
   "source": [
    "### Business Objective:"
   ]
  },
  {
   "cell_type": "markdown",
   "id": "db4585be",
   "metadata": {},
   "source": [
    "The primary objective of this project is to accurately predict the outcomes of India's 2024 election using past data and demographics. By using advanced data analytics and machine learning, the project will utilize data from EVM votes, postal votes and overall percentages to gain insights into future election results."
   ]
  },
  {
   "cell_type": "markdown",
   "id": "7c9e1920",
   "metadata": {},
   "source": [
    "## Step 1- Importing Libraries:"
   ]
  },
  {
   "cell_type": "markdown",
   "id": "acd24e3a",
   "metadata": {},
   "source": [
    "#### Importing essential libraries for Python Data Analysis"
   ]
  },
  {
   "cell_type": "code",
   "execution_count": 1,
   "id": "85cf1620",
   "metadata": {},
   "outputs": [],
   "source": [
    "#Basic Operations \n",
    "import numpy as np\n",
    "import pandas as pd\n",
    "import datetime as dt\n",
    "\n",
    "#visualizing libraries\n",
    "import matplotlib.pyplot as plt\n",
    "import seaborn as sns\n",
    "\n",
    "from sklearn.model_selection import train_test_split\n",
    "\n",
    "#data preprocessing\n",
    "from sklearn.preprocessing import StandardScaler\n",
    "from sklearn.metrics import confusion_matrix\n",
    "from sklearn.metrics import accuracy_score, classification_report\n",
    "\n",
    "#Model\n",
    "from sklearn.linear_model import LogisticRegression\n",
    "from sklearn.tree import DecisionTreeClassifier\n",
    "from sklearn.ensemble import RandomForestClassifier\n",
    "from sklearn.neighbors import KNeighborsClassifier\n",
    "from sklearn.naive_bayes import GaussianNB"
   ]
  },
  {
   "cell_type": "markdown",
   "id": "af23ccbc",
   "metadata": {},
   "source": [
    "# "
   ]
  },
  {
   "cell_type": "markdown",
   "id": "dbfb8a8b",
   "metadata": {},
   "source": [
    "## Step 2- Loading and Checking the structure of the Data:"
   ]
  },
  {
   "cell_type": "markdown",
   "id": "5808b6f1",
   "metadata": {},
   "source": [
    "#### Load your dataset into python notebook with pandas DataFrame"
   ]
  },
  {
   "cell_type": "code",
   "execution_count": 5,
   "id": "137c4c6e",
   "metadata": {},
   "outputs": [],
   "source": [
    "election_data = pd.read_csv('GE_2024_Results.csv')"
   ]
  },
  {
   "cell_type": "markdown",
   "id": "e2c2e987",
   "metadata": {},
   "source": [
    "#### Displaying the first few rows of the data"
   ]
  },
  {
   "cell_type": "code",
   "execution_count": 6,
   "id": "2e44c15f",
   "metadata": {},
   "outputs": [
    {
     "data": {
      "text/html": [
       "<div>\n",
       "<style scoped>\n",
       "    .dataframe tbody tr th:only-of-type {\n",
       "        vertical-align: middle;\n",
       "    }\n",
       "\n",
       "    .dataframe tbody tr th {\n",
       "        vertical-align: top;\n",
       "    }\n",
       "\n",
       "    .dataframe thead th {\n",
       "        text-align: right;\n",
       "    }\n",
       "</style>\n",
       "<table border=\"1\" class=\"dataframe\">\n",
       "  <thead>\n",
       "    <tr style=\"text-align: right;\">\n",
       "      <th></th>\n",
       "      <th>ID</th>\n",
       "      <th>State</th>\n",
       "      <th>Constituency</th>\n",
       "      <th>Candidate</th>\n",
       "      <th>Party</th>\n",
       "      <th>EVM Votes</th>\n",
       "      <th>Postal Votes</th>\n",
       "      <th>Total Votes</th>\n",
       "      <th>% of Votes</th>\n",
       "      <th>Result</th>\n",
       "    </tr>\n",
       "  </thead>\n",
       "  <tbody>\n",
       "    <tr>\n",
       "      <th>0</th>\n",
       "      <td>1</td>\n",
       "      <td>Andaman &amp; Nicobar Islands</td>\n",
       "      <td>Andaman &amp; Nicobar Islands</td>\n",
       "      <td>BISHNU PADA RAY</td>\n",
       "      <td>Bharatiya Janata Party</td>\n",
       "      <td>102182</td>\n",
       "      <td>254</td>\n",
       "      <td>102436</td>\n",
       "      <td>50.58</td>\n",
       "      <td>Won</td>\n",
       "    </tr>\n",
       "    <tr>\n",
       "      <th>1</th>\n",
       "      <td>2</td>\n",
       "      <td>Andaman &amp; Nicobar Islands</td>\n",
       "      <td>Andaman &amp; Nicobar Islands</td>\n",
       "      <td>KULDEEP RAI SHARMA</td>\n",
       "      <td>Indian National Congress</td>\n",
       "      <td>77829</td>\n",
       "      <td>211</td>\n",
       "      <td>78040</td>\n",
       "      <td>38.54</td>\n",
       "      <td>Lost</td>\n",
       "    </tr>\n",
       "  </tbody>\n",
       "</table>\n",
       "</div>"
      ],
      "text/plain": [
       "   ID                      State               Constituency  \\\n",
       "0   1  Andaman & Nicobar Islands  Andaman & Nicobar Islands   \n",
       "1   2  Andaman & Nicobar Islands  Andaman & Nicobar Islands   \n",
       "\n",
       "            Candidate                     Party EVM Votes Postal Votes  \\\n",
       "0     BISHNU PADA RAY    Bharatiya Janata Party    102182          254   \n",
       "1  KULDEEP RAI SHARMA  Indian National Congress     77829          211   \n",
       "\n",
       "   Total Votes % of Votes Result  \n",
       "0       102436      50.58    Won  \n",
       "1        78040      38.54   Lost  "
      ]
     },
     "execution_count": 6,
     "metadata": {},
     "output_type": "execute_result"
    }
   ],
   "source": [
    "election_data.head(2)"
   ]
  },
  {
   "cell_type": "markdown",
   "id": "85f4d896",
   "metadata": {},
   "source": [
    "#### Displaying the dimensions of the data"
   ]
  },
  {
   "cell_type": "code",
   "execution_count": 7,
   "id": "10f4a9f0",
   "metadata": {},
   "outputs": [
    {
     "data": {
      "text/plain": [
       "(8902, 10)"
      ]
     },
     "execution_count": 7,
     "metadata": {},
     "output_type": "execute_result"
    }
   ],
   "source": [
    "election_data.shape"
   ]
  },
  {
   "cell_type": "markdown",
   "id": "360cf383",
   "metadata": {},
   "source": [
    "#### Checking the data types of each column"
   ]
  },
  {
   "cell_type": "code",
   "execution_count": 8,
   "id": "4c62179f",
   "metadata": {},
   "outputs": [
    {
     "name": "stdout",
     "output_type": "stream",
     "text": [
      "<class 'pandas.core.frame.DataFrame'>\n",
      "RangeIndex: 8902 entries, 0 to 8901\n",
      "Data columns (total 10 columns):\n",
      " #   Column        Non-Null Count  Dtype \n",
      "---  ------        --------------  ----- \n",
      " 0   ID            8902 non-null   int64 \n",
      " 1   State         8902 non-null   object\n",
      " 2   Constituency  8902 non-null   object\n",
      " 3   Candidate     8902 non-null   object\n",
      " 4   Party         8902 non-null   object\n",
      " 5   EVM Votes     8902 non-null   object\n",
      " 6   Postal Votes  8902 non-null   object\n",
      " 7   Total Votes   8902 non-null   int64 \n",
      " 8   % of Votes    8902 non-null   object\n",
      " 9   Result        8902 non-null   object\n",
      "dtypes: int64(2), object(8)\n",
      "memory usage: 695.6+ KB\n"
     ]
    }
   ],
   "source": [
    "election_data.info()"
   ]
  },
  {
   "cell_type": "markdown",
   "id": "42ebf3c1",
   "metadata": {},
   "source": [
    "# "
   ]
  },
  {
   "cell_type": "markdown",
   "id": "e2055470",
   "metadata": {},
   "source": [
    "## Step 3- Data Preparation:"
   ]
  },
  {
   "cell_type": "markdown",
   "id": "e46dde76",
   "metadata": {},
   "source": [
    "### 3.1 Naming Convention:"
   ]
  },
  {
   "cell_type": "markdown",
   "id": "3d665723",
   "metadata": {},
   "source": [
    "#### Checking if variables names are following the Naming Convention"
   ]
  },
  {
   "cell_type": "code",
   "execution_count": 9,
   "id": "899739c7",
   "metadata": {},
   "outputs": [
    {
     "data": {
      "text/plain": [
       "Index(['ID', 'State', 'Constituency', 'Candidate', 'Party', 'EVM Votes',\n",
       "       'Postal Votes', 'Total Votes', '% of Votes', 'Result'],\n",
       "      dtype='object')"
      ]
     },
     "execution_count": 9,
     "metadata": {},
     "output_type": "execute_result"
    }
   ],
   "source": [
    "election_data.columns"
   ]
  },
  {
   "cell_type": "markdown",
   "id": "76710352",
   "metadata": {},
   "source": [
    "#### Using list comprehension for replacing spaces in column names with _ (underscores) in column names of the data according to naming convention"
   ]
  },
  {
   "cell_type": "code",
   "execution_count": 10,
   "id": "9f5354bc",
   "metadata": {},
   "outputs": [],
   "source": [
    "election_data.columns = [col.replace(' ','_') for col in election_data.columns]"
   ]
  },
  {
   "cell_type": "code",
   "execution_count": 11,
   "id": "e30cca25",
   "metadata": {},
   "outputs": [
    {
     "data": {
      "text/plain": [
       "Index(['ID', 'State', 'Constituency', 'Candidate', 'Party', 'EVM_Votes',\n",
       "       'Postal_Votes', 'Total_Votes', '%_of_Votes', 'Result'],\n",
       "      dtype='object')"
      ]
     },
     "execution_count": 11,
     "metadata": {},
     "output_type": "execute_result"
    }
   ],
   "source": [
    "election_data.columns"
   ]
  },
  {
   "cell_type": "markdown",
   "id": "1a36f4df",
   "metadata": {},
   "source": [
    "#### Renaming column with special character (%)"
   ]
  },
  {
   "cell_type": "code",
   "execution_count": 12,
   "id": "06e7c3d6",
   "metadata": {},
   "outputs": [],
   "source": [
    "election_data = election_data.rename(columns = {'%_of_Votes':'Percentage_of_Votes'})"
   ]
  },
  {
   "cell_type": "code",
   "execution_count": 13,
   "id": "996a588a",
   "metadata": {},
   "outputs": [
    {
     "data": {
      "text/plain": [
       "Index(['ID', 'State', 'Constituency', 'Candidate', 'Party', 'EVM_Votes',\n",
       "       'Postal_Votes', 'Total_Votes', 'Percentage_of_Votes', 'Result'],\n",
       "      dtype='object')"
      ]
     },
     "execution_count": 13,
     "metadata": {},
     "output_type": "execute_result"
    }
   ],
   "source": [
    "election_data.columns"
   ]
  },
  {
   "cell_type": "markdown",
   "id": "5aa27fda",
   "metadata": {},
   "source": [
    "### 3.2 Replacing - (hyphen) with NULL in integer data values:"
   ]
  },
  {
   "cell_type": "code",
   "execution_count": 14,
   "id": "41ba77d6",
   "metadata": {},
   "outputs": [
    {
     "data": {
      "text/html": [
       "<div>\n",
       "<style scoped>\n",
       "    .dataframe tbody tr th:only-of-type {\n",
       "        vertical-align: middle;\n",
       "    }\n",
       "\n",
       "    .dataframe tbody tr th {\n",
       "        vertical-align: top;\n",
       "    }\n",
       "\n",
       "    .dataframe thead th {\n",
       "        text-align: right;\n",
       "    }\n",
       "</style>\n",
       "<table border=\"1\" class=\"dataframe\">\n",
       "  <thead>\n",
       "    <tr style=\"text-align: right;\">\n",
       "      <th></th>\n",
       "      <th>ID</th>\n",
       "      <th>State</th>\n",
       "      <th>Constituency</th>\n",
       "      <th>Candidate</th>\n",
       "      <th>Party</th>\n",
       "      <th>EVM_Votes</th>\n",
       "      <th>Postal_Votes</th>\n",
       "      <th>Total_Votes</th>\n",
       "      <th>Percentage_of_Votes</th>\n",
       "      <th>Result</th>\n",
       "    </tr>\n",
       "  </thead>\n",
       "  <tbody>\n",
       "    <tr>\n",
       "      <th>0</th>\n",
       "      <td>1</td>\n",
       "      <td>Andaman &amp; Nicobar Islands</td>\n",
       "      <td>Andaman &amp; Nicobar Islands</td>\n",
       "      <td>BISHNU PADA RAY</td>\n",
       "      <td>Bharatiya Janata Party</td>\n",
       "      <td>102182</td>\n",
       "      <td>254</td>\n",
       "      <td>102436</td>\n",
       "      <td>50.58</td>\n",
       "      <td>Won</td>\n",
       "    </tr>\n",
       "    <tr>\n",
       "      <th>1</th>\n",
       "      <td>2</td>\n",
       "      <td>Andaman &amp; Nicobar Islands</td>\n",
       "      <td>Andaman &amp; Nicobar Islands</td>\n",
       "      <td>KULDEEP RAI SHARMA</td>\n",
       "      <td>Indian National Congress</td>\n",
       "      <td>77829</td>\n",
       "      <td>211</td>\n",
       "      <td>78040</td>\n",
       "      <td>38.54</td>\n",
       "      <td>Lost</td>\n",
       "    </tr>\n",
       "    <tr>\n",
       "      <th>2</th>\n",
       "      <td>3</td>\n",
       "      <td>Andaman &amp; Nicobar Islands</td>\n",
       "      <td>Andaman &amp; Nicobar Islands</td>\n",
       "      <td>MANOJ PAUL</td>\n",
       "      <td>Andaman Nicobar Democratic Congress</td>\n",
       "      <td>8236</td>\n",
       "      <td>18</td>\n",
       "      <td>8254</td>\n",
       "      <td>4.08</td>\n",
       "      <td>Lost</td>\n",
       "    </tr>\n",
       "    <tr>\n",
       "      <th>3</th>\n",
       "      <td>4</td>\n",
       "      <td>Andaman &amp; Nicobar Islands</td>\n",
       "      <td>Andaman &amp; Nicobar Islands</td>\n",
       "      <td>D AYYAPPAN</td>\n",
       "      <td>Communist Party of India  (Marxist)</td>\n",
       "      <td>6009</td>\n",
       "      <td>8</td>\n",
       "      <td>6017</td>\n",
       "      <td>2.97</td>\n",
       "      <td>Lost</td>\n",
       "    </tr>\n",
       "    <tr>\n",
       "      <th>4</th>\n",
       "      <td>5</td>\n",
       "      <td>Andaman &amp; Nicobar Islands</td>\n",
       "      <td>Andaman &amp; Nicobar Islands</td>\n",
       "      <td>V.K. ABDUL AZIZ</td>\n",
       "      <td>Independent</td>\n",
       "      <td>2195</td>\n",
       "      <td>8</td>\n",
       "      <td>2203</td>\n",
       "      <td>1.09</td>\n",
       "      <td>Lost</td>\n",
       "    </tr>\n",
       "    <tr>\n",
       "      <th>5</th>\n",
       "      <td>6</td>\n",
       "      <td>Andaman &amp; Nicobar Islands</td>\n",
       "      <td>Andaman &amp; Nicobar Islands</td>\n",
       "      <td>K J B SELVARAJ</td>\n",
       "      <td>All India Anna Dravida Munnetra Kazhagam</td>\n",
       "      <td>911</td>\n",
       "      <td>3</td>\n",
       "      <td>914</td>\n",
       "      <td>0.45</td>\n",
       "      <td>Lost</td>\n",
       "    </tr>\n",
       "    <tr>\n",
       "      <th>6</th>\n",
       "      <td>7</td>\n",
       "      <td>Andaman &amp; Nicobar Islands</td>\n",
       "      <td>Andaman &amp; Nicobar Islands</td>\n",
       "      <td>DR ARUN KUMAR MALLIK</td>\n",
       "      <td>Bahujan Samaj Party</td>\n",
       "      <td>714</td>\n",
       "      <td>5</td>\n",
       "      <td>719</td>\n",
       "      <td>0.36</td>\n",
       "      <td>Lost</td>\n",
       "    </tr>\n",
       "    <tr>\n",
       "      <th>7</th>\n",
       "      <td>8</td>\n",
       "      <td>Andaman &amp; Nicobar Islands</td>\n",
       "      <td>Andaman &amp; Nicobar Islands</td>\n",
       "      <td>RINKU MALA MONDAL</td>\n",
       "      <td>Independent</td>\n",
       "      <td>539</td>\n",
       "      <td>3</td>\n",
       "      <td>542</td>\n",
       "      <td>0.27</td>\n",
       "      <td>Lost</td>\n",
       "    </tr>\n",
       "    <tr>\n",
       "      <th>8</th>\n",
       "      <td>9</td>\n",
       "      <td>Andaman &amp; Nicobar Islands</td>\n",
       "      <td>Andaman &amp; Nicobar Islands</td>\n",
       "      <td>K VENKAT RAM BABU</td>\n",
       "      <td>Independent</td>\n",
       "      <td>506</td>\n",
       "      <td>1</td>\n",
       "      <td>507</td>\n",
       "      <td>0.25</td>\n",
       "      <td>Lost</td>\n",
       "    </tr>\n",
       "    <tr>\n",
       "      <th>9</th>\n",
       "      <td>10</td>\n",
       "      <td>Andaman &amp; Nicobar Islands</td>\n",
       "      <td>Andaman &amp; Nicobar Islands</td>\n",
       "      <td>USHA KUMARI</td>\n",
       "      <td>Independent</td>\n",
       "      <td>378</td>\n",
       "      <td>2</td>\n",
       "      <td>380</td>\n",
       "      <td>0.19</td>\n",
       "      <td>Lost</td>\n",
       "    </tr>\n",
       "    <tr>\n",
       "      <th>10</th>\n",
       "      <td>11</td>\n",
       "      <td>Andaman &amp; Nicobar Islands</td>\n",
       "      <td>Andaman &amp; Nicobar Islands</td>\n",
       "      <td>SALAMAT MONDAL</td>\n",
       "      <td>Socialist Unity Centre Of India (COMMUNIST)</td>\n",
       "      <td>349</td>\n",
       "      <td>2</td>\n",
       "      <td>351</td>\n",
       "      <td>0.17</td>\n",
       "      <td>Lost</td>\n",
       "    </tr>\n",
       "    <tr>\n",
       "      <th>11</th>\n",
       "      <td>12</td>\n",
       "      <td>Andaman &amp; Nicobar Islands</td>\n",
       "      <td>Andaman &amp; Nicobar Islands</td>\n",
       "      <td>ANAND RAMNATH ARLEKAR</td>\n",
       "      <td>Independent</td>\n",
       "      <td>342</td>\n",
       "      <td>-</td>\n",
       "      <td>342</td>\n",
       "      <td>0.17</td>\n",
       "      <td>Lost</td>\n",
       "    </tr>\n",
       "    <tr>\n",
       "      <th>12</th>\n",
       "      <td>13</td>\n",
       "      <td>Andaman &amp; Nicobar Islands</td>\n",
       "      <td>Andaman &amp; Nicobar Islands</td>\n",
       "      <td>NOTA</td>\n",
       "      <td>None of the Above</td>\n",
       "      <td>1802</td>\n",
       "      <td>7</td>\n",
       "      <td>1809</td>\n",
       "      <td>0.89</td>\n",
       "      <td>Lost</td>\n",
       "    </tr>\n",
       "    <tr>\n",
       "      <th>13</th>\n",
       "      <td>14</td>\n",
       "      <td>Andhra Pradesh</td>\n",
       "      <td>Amalapuram (SC)</td>\n",
       "      <td>G M HARISH (BALAYOGI)</td>\n",
       "      <td>Telugu Desam</td>\n",
       "      <td>786149</td>\n",
       "      <td>10832</td>\n",
       "      <td>796981</td>\n",
       "      <td>61.25</td>\n",
       "      <td>Won</td>\n",
       "    </tr>\n",
       "    <tr>\n",
       "      <th>14</th>\n",
       "      <td>15</td>\n",
       "      <td>Andhra Pradesh</td>\n",
       "      <td>Amalapuram (SC)</td>\n",
       "      <td>RAPAKA VARAPRASADA RAO</td>\n",
       "      <td>Yuvajana Sramika Rythu Congress Party</td>\n",
       "      <td>450362</td>\n",
       "      <td>4423</td>\n",
       "      <td>454785</td>\n",
       "      <td>34.95</td>\n",
       "      <td>Lost</td>\n",
       "    </tr>\n",
       "  </tbody>\n",
       "</table>\n",
       "</div>"
      ],
      "text/plain": [
       "    ID                      State               Constituency  \\\n",
       "0    1  Andaman & Nicobar Islands  Andaman & Nicobar Islands   \n",
       "1    2  Andaman & Nicobar Islands  Andaman & Nicobar Islands   \n",
       "2    3  Andaman & Nicobar Islands  Andaman & Nicobar Islands   \n",
       "3    4  Andaman & Nicobar Islands  Andaman & Nicobar Islands   \n",
       "4    5  Andaman & Nicobar Islands  Andaman & Nicobar Islands   \n",
       "5    6  Andaman & Nicobar Islands  Andaman & Nicobar Islands   \n",
       "6    7  Andaman & Nicobar Islands  Andaman & Nicobar Islands   \n",
       "7    8  Andaman & Nicobar Islands  Andaman & Nicobar Islands   \n",
       "8    9  Andaman & Nicobar Islands  Andaman & Nicobar Islands   \n",
       "9   10  Andaman & Nicobar Islands  Andaman & Nicobar Islands   \n",
       "10  11  Andaman & Nicobar Islands  Andaman & Nicobar Islands   \n",
       "11  12  Andaman & Nicobar Islands  Andaman & Nicobar Islands   \n",
       "12  13  Andaman & Nicobar Islands  Andaman & Nicobar Islands   \n",
       "13  14             Andhra Pradesh            Amalapuram (SC)   \n",
       "14  15             Andhra Pradesh            Amalapuram (SC)   \n",
       "\n",
       "                 Candidate                                        Party  \\\n",
       "0          BISHNU PADA RAY                       Bharatiya Janata Party   \n",
       "1       KULDEEP RAI SHARMA                     Indian National Congress   \n",
       "2               MANOJ PAUL          Andaman Nicobar Democratic Congress   \n",
       "3               D AYYAPPAN          Communist Party of India  (Marxist)   \n",
       "4          V.K. ABDUL AZIZ                                  Independent   \n",
       "5           K J B SELVARAJ     All India Anna Dravida Munnetra Kazhagam   \n",
       "6     DR ARUN KUMAR MALLIK                          Bahujan Samaj Party   \n",
       "7        RINKU MALA MONDAL                                  Independent   \n",
       "8        K VENKAT RAM BABU                                  Independent   \n",
       "9              USHA KUMARI                                  Independent   \n",
       "10          SALAMAT MONDAL  Socialist Unity Centre Of India (COMMUNIST)   \n",
       "11   ANAND RAMNATH ARLEKAR                                  Independent   \n",
       "12                    NOTA                            None of the Above   \n",
       "13   G M HARISH (BALAYOGI)                                 Telugu Desam   \n",
       "14  RAPAKA VARAPRASADA RAO        Yuvajana Sramika Rythu Congress Party   \n",
       "\n",
       "   EVM_Votes Postal_Votes  Total_Votes Percentage_of_Votes Result  \n",
       "0     102182          254       102436               50.58    Won  \n",
       "1      77829          211        78040               38.54   Lost  \n",
       "2       8236           18         8254                4.08   Lost  \n",
       "3       6009            8         6017                2.97   Lost  \n",
       "4       2195            8         2203                1.09   Lost  \n",
       "5        911            3          914                0.45   Lost  \n",
       "6        714            5          719                0.36   Lost  \n",
       "7        539            3          542                0.27   Lost  \n",
       "8        506            1          507                0.25   Lost  \n",
       "9        378            2          380                0.19   Lost  \n",
       "10       349            2          351                0.17   Lost  \n",
       "11       342            -          342                0.17   Lost  \n",
       "12      1802            7         1809                0.89   Lost  \n",
       "13    786149        10832       796981               61.25    Won  \n",
       "14    450362         4423       454785               34.95   Lost  "
      ]
     },
     "execution_count": 14,
     "metadata": {},
     "output_type": "execute_result"
    }
   ],
   "source": [
    "election_data.head(15)"
   ]
  },
  {
   "cell_type": "code",
   "execution_count": 15,
   "id": "8f78d182",
   "metadata": {},
   "outputs": [
    {
     "data": {
      "text/plain": [
       "ID                     0\n",
       "State                  0\n",
       "Constituency           0\n",
       "Candidate              0\n",
       "Party                  0\n",
       "EVM_Votes              0\n",
       "Postal_Votes           0\n",
       "Total_Votes            0\n",
       "Percentage_of_Votes    0\n",
       "Result                 0\n",
       "dtype: int64"
      ]
     },
     "execution_count": 15,
     "metadata": {},
     "output_type": "execute_result"
    }
   ],
   "source": [
    "election_data.isna().sum()"
   ]
  },
  {
   "cell_type": "markdown",
   "id": "4feb7153",
   "metadata": {},
   "source": [
    "#### Treating the values with - (hyphen) as nulls, pass the values as NULL instead of - (hyphen)"
   ]
  },
  {
   "cell_type": "code",
   "execution_count": 16,
   "id": "5fc2c3d1",
   "metadata": {},
   "outputs": [],
   "source": [
    "election_data['EVM_Votes'] = election_data['EVM_Votes'].replace('-',None)"
   ]
  },
  {
   "cell_type": "code",
   "execution_count": 17,
   "id": "4fa00b15",
   "metadata": {},
   "outputs": [],
   "source": [
    "election_data['Postal_Votes'] = election_data['Postal_Votes'].replace('-',None)"
   ]
  },
  {
   "cell_type": "code",
   "execution_count": 18,
   "id": "d27ae006",
   "metadata": {},
   "outputs": [],
   "source": [
    "election_data['Percentage_of_Votes'] = election_data['Percentage_of_Votes'].replace('-',None)"
   ]
  },
  {
   "cell_type": "code",
   "execution_count": 19,
   "id": "a86185e7",
   "metadata": {},
   "outputs": [
    {
     "data": {
      "text/html": [
       "<div>\n",
       "<style scoped>\n",
       "    .dataframe tbody tr th:only-of-type {\n",
       "        vertical-align: middle;\n",
       "    }\n",
       "\n",
       "    .dataframe tbody tr th {\n",
       "        vertical-align: top;\n",
       "    }\n",
       "\n",
       "    .dataframe thead th {\n",
       "        text-align: right;\n",
       "    }\n",
       "</style>\n",
       "<table border=\"1\" class=\"dataframe\">\n",
       "  <thead>\n",
       "    <tr style=\"text-align: right;\">\n",
       "      <th></th>\n",
       "      <th>ID</th>\n",
       "      <th>State</th>\n",
       "      <th>Constituency</th>\n",
       "      <th>Candidate</th>\n",
       "      <th>Party</th>\n",
       "      <th>EVM_Votes</th>\n",
       "      <th>Postal_Votes</th>\n",
       "      <th>Total_Votes</th>\n",
       "      <th>Percentage_of_Votes</th>\n",
       "      <th>Result</th>\n",
       "    </tr>\n",
       "  </thead>\n",
       "  <tbody>\n",
       "    <tr>\n",
       "      <th>0</th>\n",
       "      <td>1</td>\n",
       "      <td>Andaman &amp; Nicobar Islands</td>\n",
       "      <td>Andaman &amp; Nicobar Islands</td>\n",
       "      <td>BISHNU PADA RAY</td>\n",
       "      <td>Bharatiya Janata Party</td>\n",
       "      <td>102182</td>\n",
       "      <td>254</td>\n",
       "      <td>102436</td>\n",
       "      <td>50.58</td>\n",
       "      <td>Won</td>\n",
       "    </tr>\n",
       "    <tr>\n",
       "      <th>1</th>\n",
       "      <td>2</td>\n",
       "      <td>Andaman &amp; Nicobar Islands</td>\n",
       "      <td>Andaman &amp; Nicobar Islands</td>\n",
       "      <td>KULDEEP RAI SHARMA</td>\n",
       "      <td>Indian National Congress</td>\n",
       "      <td>77829</td>\n",
       "      <td>211</td>\n",
       "      <td>78040</td>\n",
       "      <td>38.54</td>\n",
       "      <td>Lost</td>\n",
       "    </tr>\n",
       "    <tr>\n",
       "      <th>2</th>\n",
       "      <td>3</td>\n",
       "      <td>Andaman &amp; Nicobar Islands</td>\n",
       "      <td>Andaman &amp; Nicobar Islands</td>\n",
       "      <td>MANOJ PAUL</td>\n",
       "      <td>Andaman Nicobar Democratic Congress</td>\n",
       "      <td>8236</td>\n",
       "      <td>18</td>\n",
       "      <td>8254</td>\n",
       "      <td>4.08</td>\n",
       "      <td>Lost</td>\n",
       "    </tr>\n",
       "    <tr>\n",
       "      <th>3</th>\n",
       "      <td>4</td>\n",
       "      <td>Andaman &amp; Nicobar Islands</td>\n",
       "      <td>Andaman &amp; Nicobar Islands</td>\n",
       "      <td>D AYYAPPAN</td>\n",
       "      <td>Communist Party of India  (Marxist)</td>\n",
       "      <td>6009</td>\n",
       "      <td>8</td>\n",
       "      <td>6017</td>\n",
       "      <td>2.97</td>\n",
       "      <td>Lost</td>\n",
       "    </tr>\n",
       "    <tr>\n",
       "      <th>4</th>\n",
       "      <td>5</td>\n",
       "      <td>Andaman &amp; Nicobar Islands</td>\n",
       "      <td>Andaman &amp; Nicobar Islands</td>\n",
       "      <td>V.K. ABDUL AZIZ</td>\n",
       "      <td>Independent</td>\n",
       "      <td>2195</td>\n",
       "      <td>8</td>\n",
       "      <td>2203</td>\n",
       "      <td>1.09</td>\n",
       "      <td>Lost</td>\n",
       "    </tr>\n",
       "    <tr>\n",
       "      <th>5</th>\n",
       "      <td>6</td>\n",
       "      <td>Andaman &amp; Nicobar Islands</td>\n",
       "      <td>Andaman &amp; Nicobar Islands</td>\n",
       "      <td>K J B SELVARAJ</td>\n",
       "      <td>All India Anna Dravida Munnetra Kazhagam</td>\n",
       "      <td>911</td>\n",
       "      <td>3</td>\n",
       "      <td>914</td>\n",
       "      <td>0.45</td>\n",
       "      <td>Lost</td>\n",
       "    </tr>\n",
       "    <tr>\n",
       "      <th>6</th>\n",
       "      <td>7</td>\n",
       "      <td>Andaman &amp; Nicobar Islands</td>\n",
       "      <td>Andaman &amp; Nicobar Islands</td>\n",
       "      <td>DR ARUN KUMAR MALLIK</td>\n",
       "      <td>Bahujan Samaj Party</td>\n",
       "      <td>714</td>\n",
       "      <td>5</td>\n",
       "      <td>719</td>\n",
       "      <td>0.36</td>\n",
       "      <td>Lost</td>\n",
       "    </tr>\n",
       "    <tr>\n",
       "      <th>7</th>\n",
       "      <td>8</td>\n",
       "      <td>Andaman &amp; Nicobar Islands</td>\n",
       "      <td>Andaman &amp; Nicobar Islands</td>\n",
       "      <td>RINKU MALA MONDAL</td>\n",
       "      <td>Independent</td>\n",
       "      <td>539</td>\n",
       "      <td>3</td>\n",
       "      <td>542</td>\n",
       "      <td>0.27</td>\n",
       "      <td>Lost</td>\n",
       "    </tr>\n",
       "    <tr>\n",
       "      <th>8</th>\n",
       "      <td>9</td>\n",
       "      <td>Andaman &amp; Nicobar Islands</td>\n",
       "      <td>Andaman &amp; Nicobar Islands</td>\n",
       "      <td>K VENKAT RAM BABU</td>\n",
       "      <td>Independent</td>\n",
       "      <td>506</td>\n",
       "      <td>1</td>\n",
       "      <td>507</td>\n",
       "      <td>0.25</td>\n",
       "      <td>Lost</td>\n",
       "    </tr>\n",
       "    <tr>\n",
       "      <th>9</th>\n",
       "      <td>10</td>\n",
       "      <td>Andaman &amp; Nicobar Islands</td>\n",
       "      <td>Andaman &amp; Nicobar Islands</td>\n",
       "      <td>USHA KUMARI</td>\n",
       "      <td>Independent</td>\n",
       "      <td>378</td>\n",
       "      <td>2</td>\n",
       "      <td>380</td>\n",
       "      <td>0.19</td>\n",
       "      <td>Lost</td>\n",
       "    </tr>\n",
       "    <tr>\n",
       "      <th>10</th>\n",
       "      <td>11</td>\n",
       "      <td>Andaman &amp; Nicobar Islands</td>\n",
       "      <td>Andaman &amp; Nicobar Islands</td>\n",
       "      <td>SALAMAT MONDAL</td>\n",
       "      <td>Socialist Unity Centre Of India (COMMUNIST)</td>\n",
       "      <td>349</td>\n",
       "      <td>2</td>\n",
       "      <td>351</td>\n",
       "      <td>0.17</td>\n",
       "      <td>Lost</td>\n",
       "    </tr>\n",
       "    <tr>\n",
       "      <th>11</th>\n",
       "      <td>12</td>\n",
       "      <td>Andaman &amp; Nicobar Islands</td>\n",
       "      <td>Andaman &amp; Nicobar Islands</td>\n",
       "      <td>ANAND RAMNATH ARLEKAR</td>\n",
       "      <td>Independent</td>\n",
       "      <td>342</td>\n",
       "      <td>None</td>\n",
       "      <td>342</td>\n",
       "      <td>0.17</td>\n",
       "      <td>Lost</td>\n",
       "    </tr>\n",
       "    <tr>\n",
       "      <th>12</th>\n",
       "      <td>13</td>\n",
       "      <td>Andaman &amp; Nicobar Islands</td>\n",
       "      <td>Andaman &amp; Nicobar Islands</td>\n",
       "      <td>NOTA</td>\n",
       "      <td>None of the Above</td>\n",
       "      <td>1802</td>\n",
       "      <td>7</td>\n",
       "      <td>1809</td>\n",
       "      <td>0.89</td>\n",
       "      <td>Lost</td>\n",
       "    </tr>\n",
       "    <tr>\n",
       "      <th>13</th>\n",
       "      <td>14</td>\n",
       "      <td>Andhra Pradesh</td>\n",
       "      <td>Amalapuram (SC)</td>\n",
       "      <td>G M HARISH (BALAYOGI)</td>\n",
       "      <td>Telugu Desam</td>\n",
       "      <td>786149</td>\n",
       "      <td>10832</td>\n",
       "      <td>796981</td>\n",
       "      <td>61.25</td>\n",
       "      <td>Won</td>\n",
       "    </tr>\n",
       "    <tr>\n",
       "      <th>14</th>\n",
       "      <td>15</td>\n",
       "      <td>Andhra Pradesh</td>\n",
       "      <td>Amalapuram (SC)</td>\n",
       "      <td>RAPAKA VARAPRASADA RAO</td>\n",
       "      <td>Yuvajana Sramika Rythu Congress Party</td>\n",
       "      <td>450362</td>\n",
       "      <td>4423</td>\n",
       "      <td>454785</td>\n",
       "      <td>34.95</td>\n",
       "      <td>Lost</td>\n",
       "    </tr>\n",
       "  </tbody>\n",
       "</table>\n",
       "</div>"
      ],
      "text/plain": [
       "    ID                      State               Constituency  \\\n",
       "0    1  Andaman & Nicobar Islands  Andaman & Nicobar Islands   \n",
       "1    2  Andaman & Nicobar Islands  Andaman & Nicobar Islands   \n",
       "2    3  Andaman & Nicobar Islands  Andaman & Nicobar Islands   \n",
       "3    4  Andaman & Nicobar Islands  Andaman & Nicobar Islands   \n",
       "4    5  Andaman & Nicobar Islands  Andaman & Nicobar Islands   \n",
       "5    6  Andaman & Nicobar Islands  Andaman & Nicobar Islands   \n",
       "6    7  Andaman & Nicobar Islands  Andaman & Nicobar Islands   \n",
       "7    8  Andaman & Nicobar Islands  Andaman & Nicobar Islands   \n",
       "8    9  Andaman & Nicobar Islands  Andaman & Nicobar Islands   \n",
       "9   10  Andaman & Nicobar Islands  Andaman & Nicobar Islands   \n",
       "10  11  Andaman & Nicobar Islands  Andaman & Nicobar Islands   \n",
       "11  12  Andaman & Nicobar Islands  Andaman & Nicobar Islands   \n",
       "12  13  Andaman & Nicobar Islands  Andaman & Nicobar Islands   \n",
       "13  14             Andhra Pradesh            Amalapuram (SC)   \n",
       "14  15             Andhra Pradesh            Amalapuram (SC)   \n",
       "\n",
       "                 Candidate                                        Party  \\\n",
       "0          BISHNU PADA RAY                       Bharatiya Janata Party   \n",
       "1       KULDEEP RAI SHARMA                     Indian National Congress   \n",
       "2               MANOJ PAUL          Andaman Nicobar Democratic Congress   \n",
       "3               D AYYAPPAN          Communist Party of India  (Marxist)   \n",
       "4          V.K. ABDUL AZIZ                                  Independent   \n",
       "5           K J B SELVARAJ     All India Anna Dravida Munnetra Kazhagam   \n",
       "6     DR ARUN KUMAR MALLIK                          Bahujan Samaj Party   \n",
       "7        RINKU MALA MONDAL                                  Independent   \n",
       "8        K VENKAT RAM BABU                                  Independent   \n",
       "9              USHA KUMARI                                  Independent   \n",
       "10          SALAMAT MONDAL  Socialist Unity Centre Of India (COMMUNIST)   \n",
       "11   ANAND RAMNATH ARLEKAR                                  Independent   \n",
       "12                    NOTA                            None of the Above   \n",
       "13   G M HARISH (BALAYOGI)                                 Telugu Desam   \n",
       "14  RAPAKA VARAPRASADA RAO        Yuvajana Sramika Rythu Congress Party   \n",
       "\n",
       "   EVM_Votes Postal_Votes  Total_Votes Percentage_of_Votes Result  \n",
       "0     102182          254       102436               50.58    Won  \n",
       "1      77829          211        78040               38.54   Lost  \n",
       "2       8236           18         8254                4.08   Lost  \n",
       "3       6009            8         6017                2.97   Lost  \n",
       "4       2195            8         2203                1.09   Lost  \n",
       "5        911            3          914                0.45   Lost  \n",
       "6        714            5          719                0.36   Lost  \n",
       "7        539            3          542                0.27   Lost  \n",
       "8        506            1          507                0.25   Lost  \n",
       "9        378            2          380                0.19   Lost  \n",
       "10       349            2          351                0.17   Lost  \n",
       "11       342         None          342                0.17   Lost  \n",
       "12      1802            7         1809                0.89   Lost  \n",
       "13    786149        10832       796981               61.25    Won  \n",
       "14    450362         4423       454785               34.95   Lost  "
      ]
     },
     "execution_count": 19,
     "metadata": {},
     "output_type": "execute_result"
    }
   ],
   "source": [
    "election_data.head(15)"
   ]
  },
  {
   "cell_type": "code",
   "execution_count": 20,
   "id": "b8b848c3",
   "metadata": {},
   "outputs": [
    {
     "data": {
      "text/plain": [
       "ID                       0\n",
       "State                    0\n",
       "Constituency             0\n",
       "Candidate                0\n",
       "Party                    0\n",
       "EVM_Votes                1\n",
       "Postal_Votes           578\n",
       "Total_Votes              0\n",
       "Percentage_of_Votes      1\n",
       "Result                   0\n",
       "dtype: int64"
      ]
     },
     "execution_count": 20,
     "metadata": {},
     "output_type": "execute_result"
    }
   ],
   "source": [
    "election_data.isna().sum()"
   ]
  },
  {
   "cell_type": "markdown",
   "id": "614f3604",
   "metadata": {},
   "source": [
    "### 3.3 Datatype Conversion:"
   ]
  },
  {
   "cell_type": "markdown",
   "id": "421deb3f",
   "metadata": {},
   "source": [
    "#### Check the variable information"
   ]
  },
  {
   "cell_type": "code",
   "execution_count": 21,
   "id": "48e8dc9e",
   "metadata": {},
   "outputs": [
    {
     "name": "stdout",
     "output_type": "stream",
     "text": [
      "<class 'pandas.core.frame.DataFrame'>\n",
      "RangeIndex: 8902 entries, 0 to 8901\n",
      "Data columns (total 10 columns):\n",
      " #   Column               Non-Null Count  Dtype \n",
      "---  ------               --------------  ----- \n",
      " 0   ID                   8902 non-null   int64 \n",
      " 1   State                8902 non-null   object\n",
      " 2   Constituency         8902 non-null   object\n",
      " 3   Candidate            8902 non-null   object\n",
      " 4   Party                8902 non-null   object\n",
      " 5   EVM_Votes            8901 non-null   object\n",
      " 6   Postal_Votes         8324 non-null   object\n",
      " 7   Total_Votes          8902 non-null   int64 \n",
      " 8   Percentage_of_Votes  8901 non-null   object\n",
      " 9   Result               8902 non-null   object\n",
      "dtypes: int64(2), object(8)\n",
      "memory usage: 695.6+ KB\n"
     ]
    }
   ],
   "source": [
    "election_data.info()"
   ]
  },
  {
   "cell_type": "markdown",
   "id": "48b4cf27",
   "metadata": {},
   "source": [
    "#### Converting datatypes"
   ]
  },
  {
   "cell_type": "code",
   "execution_count": 22,
   "id": "078766b7",
   "metadata": {},
   "outputs": [],
   "source": [
    "election_data['EVM_Votes'] = election_data['EVM_Votes'].astype('float')\n",
    "election_data['Postal_Votes'] = election_data['Postal_Votes'].astype('float')\n",
    "election_data['Percentage_of_Votes'] = election_data['Percentage_of_Votes'].astype('float')\n",
    "election_data['ID'] = election_data['ID'].astype('object')"
   ]
  },
  {
   "cell_type": "code",
   "execution_count": 23,
   "id": "6a30d79b",
   "metadata": {},
   "outputs": [
    {
     "name": "stdout",
     "output_type": "stream",
     "text": [
      "<class 'pandas.core.frame.DataFrame'>\n",
      "RangeIndex: 8902 entries, 0 to 8901\n",
      "Data columns (total 10 columns):\n",
      " #   Column               Non-Null Count  Dtype  \n",
      "---  ------               --------------  -----  \n",
      " 0   ID                   8902 non-null   object \n",
      " 1   State                8902 non-null   object \n",
      " 2   Constituency         8902 non-null   object \n",
      " 3   Candidate            8902 non-null   object \n",
      " 4   Party                8902 non-null   object \n",
      " 5   EVM_Votes            8901 non-null   float64\n",
      " 6   Postal_Votes         8324 non-null   float64\n",
      " 7   Total_Votes          8902 non-null   int64  \n",
      " 8   Percentage_of_Votes  8901 non-null   float64\n",
      " 9   Result               8902 non-null   object \n",
      "dtypes: float64(3), int64(1), object(6)\n",
      "memory usage: 695.6+ KB\n"
     ]
    }
   ],
   "source": [
    "election_data.info()"
   ]
  },
  {
   "cell_type": "markdown",
   "id": "c9d16178",
   "metadata": {},
   "source": [
    "#### Checking the summary statistics"
   ]
  },
  {
   "cell_type": "code",
   "execution_count": 24,
   "id": "d5d1565f",
   "metadata": {},
   "outputs": [
    {
     "data": {
      "text/html": [
       "<div>\n",
       "<style scoped>\n",
       "    .dataframe tbody tr th:only-of-type {\n",
       "        vertical-align: middle;\n",
       "    }\n",
       "\n",
       "    .dataframe tbody tr th {\n",
       "        vertical-align: top;\n",
       "    }\n",
       "\n",
       "    .dataframe thead th {\n",
       "        text-align: right;\n",
       "    }\n",
       "</style>\n",
       "<table border=\"1\" class=\"dataframe\">\n",
       "  <thead>\n",
       "    <tr style=\"text-align: right;\">\n",
       "      <th></th>\n",
       "      <th>EVM_Votes</th>\n",
       "      <th>Postal_Votes</th>\n",
       "      <th>Total_Votes</th>\n",
       "      <th>Percentage_of_Votes</th>\n",
       "    </tr>\n",
       "  </thead>\n",
       "  <tbody>\n",
       "    <tr>\n",
       "      <th>count</th>\n",
       "      <td>8.901000e+03</td>\n",
       "      <td>8324.000000</td>\n",
       "      <td>8.902000e+03</td>\n",
       "      <td>8901.000000</td>\n",
       "    </tr>\n",
       "    <tr>\n",
       "      <th>mean</th>\n",
       "      <td>7.208392e+04</td>\n",
       "      <td>449.844786</td>\n",
       "      <td>7.249646e+04</td>\n",
       "      <td>6.089172</td>\n",
       "    </tr>\n",
       "    <tr>\n",
       "      <th>std</th>\n",
       "      <td>1.788797e+05</td>\n",
       "      <td>1380.591598</td>\n",
       "      <td>1.798988e+05</td>\n",
       "      <td>14.630761</td>\n",
       "    </tr>\n",
       "    <tr>\n",
       "      <th>min</th>\n",
       "      <td>5.800000e+01</td>\n",
       "      <td>1.000000</td>\n",
       "      <td>0.000000e+00</td>\n",
       "      <td>0.010000</td>\n",
       "    </tr>\n",
       "    <tr>\n",
       "      <th>25%</th>\n",
       "      <td>1.085000e+03</td>\n",
       "      <td>4.000000</td>\n",
       "      <td>1.094250e+03</td>\n",
       "      <td>0.090000</td>\n",
       "    </tr>\n",
       "    <tr>\n",
       "      <th>50%</th>\n",
       "      <td>2.769000e+03</td>\n",
       "      <td>11.000000</td>\n",
       "      <td>2.781000e+03</td>\n",
       "      <td>0.240000</td>\n",
       "    </tr>\n",
       "    <tr>\n",
       "      <th>75%</th>\n",
       "      <td>9.681000e+03</td>\n",
       "      <td>59.000000</td>\n",
       "      <td>9.759500e+03</td>\n",
       "      <td>0.810000</td>\n",
       "    </tr>\n",
       "    <tr>\n",
       "      <th>max</th>\n",
       "      <td>1.468549e+06</td>\n",
       "      <td>19827.000000</td>\n",
       "      <td>1.471885e+06</td>\n",
       "      <td>78.540000</td>\n",
       "    </tr>\n",
       "  </tbody>\n",
       "</table>\n",
       "</div>"
      ],
      "text/plain": [
       "          EVM_Votes  Postal_Votes   Total_Votes  Percentage_of_Votes\n",
       "count  8.901000e+03   8324.000000  8.902000e+03          8901.000000\n",
       "mean   7.208392e+04    449.844786  7.249646e+04             6.089172\n",
       "std    1.788797e+05   1380.591598  1.798988e+05            14.630761\n",
       "min    5.800000e+01      1.000000  0.000000e+00             0.010000\n",
       "25%    1.085000e+03      4.000000  1.094250e+03             0.090000\n",
       "50%    2.769000e+03     11.000000  2.781000e+03             0.240000\n",
       "75%    9.681000e+03     59.000000  9.759500e+03             0.810000\n",
       "max    1.468549e+06  19827.000000  1.471885e+06            78.540000"
      ]
     },
     "execution_count": 24,
     "metadata": {},
     "output_type": "execute_result"
    }
   ],
   "source": [
    "election_data.describe()"
   ]
  },
  {
   "cell_type": "markdown",
   "id": "a868cb91",
   "metadata": {},
   "source": [
    "### 3.4 Data Duplicacy:"
   ]
  },
  {
   "cell_type": "markdown",
   "id": "4654d65d",
   "metadata": {},
   "source": [
    "#### Checking the relevant and irrelevant variables in the first phase of EDA"
   ]
  },
  {
   "cell_type": "markdown",
   "id": "12ab58d1",
   "metadata": {},
   "source": [
    "- Checking cardinality (uniqueness) of data"
   ]
  },
  {
   "cell_type": "code",
   "execution_count": 25,
   "id": "6a710a06",
   "metadata": {},
   "outputs": [
    {
     "data": {
      "text/plain": [
       "ID                     8902\n",
       "State                    36\n",
       "Constituency            541\n",
       "Candidate              8101\n",
       "Party                   746\n",
       "EVM_Votes              6080\n",
       "Postal_Votes           1446\n",
       "Total_Votes            6100\n",
       "Percentage_of_Votes    1556\n",
       "Result                    2\n",
       "dtype: int64"
      ]
     },
     "execution_count": 25,
     "metadata": {},
     "output_type": "execute_result"
    }
   ],
   "source": [
    "election_data.nunique()"
   ]
  },
  {
   "cell_type": "code",
   "execution_count": 26,
   "id": "3affd637",
   "metadata": {},
   "outputs": [
    {
     "data": {
      "text/plain": [
       "False    8902\n",
       "Name: count, dtype: int64"
      ]
     },
     "execution_count": 26,
     "metadata": {},
     "output_type": "execute_result"
    }
   ],
   "source": [
    "election_data.duplicated().value_counts()"
   ]
  },
  {
   "cell_type": "code",
   "execution_count": 27,
   "id": "4e5f0a92",
   "metadata": {},
   "outputs": [
    {
     "data": {
      "text/plain": [
       "0"
      ]
     },
     "execution_count": 27,
     "metadata": {},
     "output_type": "execute_result"
    }
   ],
   "source": [
    "election_data.duplicated().sum()"
   ]
  },
  {
   "cell_type": "markdown",
   "id": "080fbcdf",
   "metadata": {},
   "source": [
    "- There are 0 duplicate rows in the election dataset"
   ]
  },
  {
   "cell_type": "markdown",
   "id": "72691adf",
   "metadata": {},
   "source": [
    "# "
   ]
  },
  {
   "cell_type": "markdown",
   "id": "e330d4c7",
   "metadata": {},
   "source": [
    "## Step 4- Handling Missing Values:"
   ]
  },
  {
   "cell_type": "code",
   "execution_count": 28,
   "id": "4f7b1702",
   "metadata": {},
   "outputs": [
    {
     "data": {
      "text/plain": [
       "(8902, 10)"
      ]
     },
     "execution_count": 28,
     "metadata": {},
     "output_type": "execute_result"
    }
   ],
   "source": [
    "election_data.shape"
   ]
  },
  {
   "cell_type": "markdown",
   "id": "91974d73",
   "metadata": {},
   "source": [
    "#### Checking the number of missing values in our data"
   ]
  },
  {
   "cell_type": "code",
   "execution_count": 29,
   "id": "c3d08904",
   "metadata": {},
   "outputs": [
    {
     "data": {
      "text/plain": [
       "ID                       0\n",
       "State                    0\n",
       "Constituency             0\n",
       "Candidate                0\n",
       "Party                    0\n",
       "EVM_Votes                1\n",
       "Postal_Votes           578\n",
       "Total_Votes              0\n",
       "Percentage_of_Votes      1\n",
       "Result                   0\n",
       "dtype: int64"
      ]
     },
     "execution_count": 29,
     "metadata": {},
     "output_type": "execute_result"
    }
   ],
   "source": [
    "election_data.isna().sum()"
   ]
  },
  {
   "cell_type": "markdown",
   "id": "41d90a67",
   "metadata": {},
   "source": [
    "- There is maximum of 6.5% values missing in the Postal_Votes variable"
   ]
  },
  {
   "cell_type": "code",
   "execution_count": 30,
   "id": "1440af31",
   "metadata": {},
   "outputs": [
    {
     "data": {
      "text/plain": [
       "Index(['ID', 'State', 'Constituency', 'Candidate', 'Party', 'EVM_Votes',\n",
       "       'Postal_Votes', 'Total_Votes', 'Percentage_of_Votes', 'Result'],\n",
       "      dtype='object')"
      ]
     },
     "execution_count": 30,
     "metadata": {},
     "output_type": "execute_result"
    }
   ],
   "source": [
    "election_data.columns"
   ]
  },
  {
   "cell_type": "markdown",
   "id": "57741fb8",
   "metadata": {},
   "source": [
    "#### Filling missing values with median value of respective variables"
   ]
  },
  {
   "cell_type": "code",
   "execution_count": 31,
   "id": "3e94afa8",
   "metadata": {},
   "outputs": [],
   "source": [
    "election_data['EVM_Votes'] = election_data['EVM_Votes'].fillna(election_data['EVM_Votes'].median())\n",
    "election_data['Postal_Votes'] = election_data['Postal_Votes'].fillna(election_data['Postal_Votes'].median())\n",
    "election_data['Percentage_of_Votes'] = election_data['Percentage_of_Votes'].fillna(election_data['Percentage_of_Votes'].median())"
   ]
  },
  {
   "cell_type": "code",
   "execution_count": 32,
   "id": "45d3d531",
   "metadata": {},
   "outputs": [
    {
     "data": {
      "text/plain": [
       "ID                     0\n",
       "State                  0\n",
       "Constituency           0\n",
       "Candidate              0\n",
       "Party                  0\n",
       "EVM_Votes              0\n",
       "Postal_Votes           0\n",
       "Total_Votes            0\n",
       "Percentage_of_Votes    0\n",
       "Result                 0\n",
       "dtype: int64"
      ]
     },
     "execution_count": 32,
     "metadata": {},
     "output_type": "execute_result"
    }
   ],
   "source": [
    "election_data.isna().sum()"
   ]
  },
  {
   "cell_type": "markdown",
   "id": "91f6fec0",
   "metadata": {},
   "source": [
    "# "
   ]
  },
  {
   "cell_type": "markdown",
   "id": "f46a9a72",
   "metadata": {},
   "source": [
    "## Step 5- Data PreProcessing:"
   ]
  },
  {
   "cell_type": "markdown",
   "id": "20d936ba",
   "metadata": {},
   "source": [
    "#### Separating the Categorical variables and Numerical variables into two different datasets for Data Preparations for easier analysis."
   ]
  },
  {
   "cell_type": "code",
   "execution_count": 33,
   "id": "f486988b",
   "metadata": {},
   "outputs": [
    {
     "name": "stdout",
     "output_type": "stream",
     "text": [
      "<class 'pandas.core.frame.DataFrame'>\n",
      "RangeIndex: 8902 entries, 0 to 8901\n",
      "Data columns (total 10 columns):\n",
      " #   Column               Non-Null Count  Dtype  \n",
      "---  ------               --------------  -----  \n",
      " 0   ID                   8902 non-null   object \n",
      " 1   State                8902 non-null   object \n",
      " 2   Constituency         8902 non-null   object \n",
      " 3   Candidate            8902 non-null   object \n",
      " 4   Party                8902 non-null   object \n",
      " 5   EVM_Votes            8902 non-null   float64\n",
      " 6   Postal_Votes         8902 non-null   float64\n",
      " 7   Total_Votes          8902 non-null   int64  \n",
      " 8   Percentage_of_Votes  8902 non-null   float64\n",
      " 9   Result               8902 non-null   object \n",
      "dtypes: float64(3), int64(1), object(6)\n",
      "memory usage: 695.6+ KB\n"
     ]
    }
   ],
   "source": [
    "election_data.info()"
   ]
  },
  {
   "cell_type": "markdown",
   "id": "338fde6e",
   "metadata": {},
   "source": [
    "#### Categorical Election data"
   ]
  },
  {
   "cell_type": "code",
   "execution_count": 34,
   "id": "717fe8d4",
   "metadata": {},
   "outputs": [],
   "source": [
    "cat = [var for var in election_data.columns if election_data[var].dtype == 'O']\n",
    "categorical_election_data = election_data[cat]"
   ]
  },
  {
   "cell_type": "code",
   "execution_count": 35,
   "id": "5ee5ce49",
   "metadata": {},
   "outputs": [
    {
     "data": {
      "text/plain": [
       "Index(['ID', 'State', 'Constituency', 'Candidate', 'Party', 'Result'], dtype='object')"
      ]
     },
     "execution_count": 35,
     "metadata": {},
     "output_type": "execute_result"
    }
   ],
   "source": [
    "categorical_election_data.columns"
   ]
  },
  {
   "cell_type": "code",
   "execution_count": 36,
   "id": "59581166",
   "metadata": {},
   "outputs": [
    {
     "data": {
      "text/plain": [
       "ID              0\n",
       "State           0\n",
       "Constituency    0\n",
       "Candidate       0\n",
       "Party           0\n",
       "Result          0\n",
       "dtype: int64"
      ]
     },
     "execution_count": 36,
     "metadata": {},
     "output_type": "execute_result"
    }
   ],
   "source": [
    "categorical_election_data.isna().sum()"
   ]
  },
  {
   "cell_type": "code",
   "execution_count": 37,
   "id": "dbb8567a",
   "metadata": {},
   "outputs": [
    {
     "data": {
      "text/html": [
       "<div>\n",
       "<style scoped>\n",
       "    .dataframe tbody tr th:only-of-type {\n",
       "        vertical-align: middle;\n",
       "    }\n",
       "\n",
       "    .dataframe tbody tr th {\n",
       "        vertical-align: top;\n",
       "    }\n",
       "\n",
       "    .dataframe thead th {\n",
       "        text-align: right;\n",
       "    }\n",
       "</style>\n",
       "<table border=\"1\" class=\"dataframe\">\n",
       "  <thead>\n",
       "    <tr style=\"text-align: right;\">\n",
       "      <th></th>\n",
       "      <th>ID</th>\n",
       "      <th>State</th>\n",
       "      <th>Constituency</th>\n",
       "      <th>Candidate</th>\n",
       "      <th>Party</th>\n",
       "      <th>Result</th>\n",
       "    </tr>\n",
       "  </thead>\n",
       "  <tbody>\n",
       "    <tr>\n",
       "      <th>0</th>\n",
       "      <td>1</td>\n",
       "      <td>Andaman &amp; Nicobar Islands</td>\n",
       "      <td>Andaman &amp; Nicobar Islands</td>\n",
       "      <td>BISHNU PADA RAY</td>\n",
       "      <td>Bharatiya Janata Party</td>\n",
       "      <td>Won</td>\n",
       "    </tr>\n",
       "    <tr>\n",
       "      <th>1</th>\n",
       "      <td>2</td>\n",
       "      <td>Andaman &amp; Nicobar Islands</td>\n",
       "      <td>Andaman &amp; Nicobar Islands</td>\n",
       "      <td>KULDEEP RAI SHARMA</td>\n",
       "      <td>Indian National Congress</td>\n",
       "      <td>Lost</td>\n",
       "    </tr>\n",
       "  </tbody>\n",
       "</table>\n",
       "</div>"
      ],
      "text/plain": [
       "  ID                      State               Constituency  \\\n",
       "0  1  Andaman & Nicobar Islands  Andaman & Nicobar Islands   \n",
       "1  2  Andaman & Nicobar Islands  Andaman & Nicobar Islands   \n",
       "\n",
       "            Candidate                     Party Result  \n",
       "0     BISHNU PADA RAY    Bharatiya Janata Party    Won  \n",
       "1  KULDEEP RAI SHARMA  Indian National Congress   Lost  "
      ]
     },
     "execution_count": 37,
     "metadata": {},
     "output_type": "execute_result"
    }
   ],
   "source": [
    "categorical_election_data.head(2)"
   ]
  },
  {
   "cell_type": "code",
   "execution_count": 38,
   "id": "671c99fa",
   "metadata": {},
   "outputs": [
    {
     "data": {
      "text/plain": [
       "(8902, 6)"
      ]
     },
     "execution_count": 38,
     "metadata": {},
     "output_type": "execute_result"
    }
   ],
   "source": [
    "categorical_election_data.shape"
   ]
  },
  {
   "cell_type": "markdown",
   "id": "8e90d8cf",
   "metadata": {},
   "source": [
    "#### Numerical Election data"
   ]
  },
  {
   "cell_type": "code",
   "execution_count": 39,
   "id": "362c2e30",
   "metadata": {},
   "outputs": [],
   "source": [
    "num = [var for var in election_data.columns if election_data[var].dtype != 'O']\n",
    "numerical_election_data = election_data[num]"
   ]
  },
  {
   "cell_type": "code",
   "execution_count": 40,
   "id": "149d5d47",
   "metadata": {},
   "outputs": [
    {
     "data": {
      "text/plain": [
       "Index(['EVM_Votes', 'Postal_Votes', 'Total_Votes', 'Percentage_of_Votes'], dtype='object')"
      ]
     },
     "execution_count": 40,
     "metadata": {},
     "output_type": "execute_result"
    }
   ],
   "source": [
    "numerical_election_data.columns"
   ]
  },
  {
   "cell_type": "code",
   "execution_count": 41,
   "id": "8f484ae4",
   "metadata": {},
   "outputs": [
    {
     "data": {
      "text/plain": [
       "EVM_Votes              0\n",
       "Postal_Votes           0\n",
       "Total_Votes            0\n",
       "Percentage_of_Votes    0\n",
       "dtype: int64"
      ]
     },
     "execution_count": 41,
     "metadata": {},
     "output_type": "execute_result"
    }
   ],
   "source": [
    "numerical_election_data.isna().sum()"
   ]
  },
  {
   "cell_type": "code",
   "execution_count": 42,
   "id": "47df33c6",
   "metadata": {},
   "outputs": [
    {
     "data": {
      "text/html": [
       "<div>\n",
       "<style scoped>\n",
       "    .dataframe tbody tr th:only-of-type {\n",
       "        vertical-align: middle;\n",
       "    }\n",
       "\n",
       "    .dataframe tbody tr th {\n",
       "        vertical-align: top;\n",
       "    }\n",
       "\n",
       "    .dataframe thead th {\n",
       "        text-align: right;\n",
       "    }\n",
       "</style>\n",
       "<table border=\"1\" class=\"dataframe\">\n",
       "  <thead>\n",
       "    <tr style=\"text-align: right;\">\n",
       "      <th></th>\n",
       "      <th>EVM_Votes</th>\n",
       "      <th>Postal_Votes</th>\n",
       "      <th>Total_Votes</th>\n",
       "      <th>Percentage_of_Votes</th>\n",
       "    </tr>\n",
       "  </thead>\n",
       "  <tbody>\n",
       "    <tr>\n",
       "      <th>0</th>\n",
       "      <td>102182.0</td>\n",
       "      <td>254.0</td>\n",
       "      <td>102436</td>\n",
       "      <td>50.58</td>\n",
       "    </tr>\n",
       "    <tr>\n",
       "      <th>1</th>\n",
       "      <td>77829.0</td>\n",
       "      <td>211.0</td>\n",
       "      <td>78040</td>\n",
       "      <td>38.54</td>\n",
       "    </tr>\n",
       "  </tbody>\n",
       "</table>\n",
       "</div>"
      ],
      "text/plain": [
       "   EVM_Votes  Postal_Votes  Total_Votes  Percentage_of_Votes\n",
       "0   102182.0         254.0       102436                50.58\n",
       "1    77829.0         211.0        78040                38.54"
      ]
     },
     "execution_count": 42,
     "metadata": {},
     "output_type": "execute_result"
    }
   ],
   "source": [
    "numerical_election_data.head(2)"
   ]
  },
  {
   "cell_type": "markdown",
   "id": "eb363dc4",
   "metadata": {},
   "source": [
    "#### For merging the datasets back later, there should be a common column between the 2 seperated datasets"
   ]
  },
  {
   "cell_type": "code",
   "execution_count": 43,
   "id": "4365ac0b",
   "metadata": {},
   "outputs": [
    {
     "name": "stderr",
     "output_type": "stream",
     "text": [
      "C:\\Users\\VJahn\\AppData\\Local\\Temp\\ipykernel_6788\\571422690.py:1: SettingWithCopyWarning: \n",
      "A value is trying to be set on a copy of a slice from a DataFrame.\n",
      "Try using .loc[row_indexer,col_indexer] = value instead\n",
      "\n",
      "See the caveats in the documentation: https://pandas.pydata.org/pandas-docs/stable/user_guide/indexing.html#returning-a-view-versus-a-copy\n",
      "  numerical_election_data['ID'] = election_data['ID']\n"
     ]
    }
   ],
   "source": [
    "numerical_election_data['ID'] = election_data['ID']"
   ]
  },
  {
   "cell_type": "code",
   "execution_count": 44,
   "id": "6b38d5b1",
   "metadata": {},
   "outputs": [
    {
     "data": {
      "text/html": [
       "<div>\n",
       "<style scoped>\n",
       "    .dataframe tbody tr th:only-of-type {\n",
       "        vertical-align: middle;\n",
       "    }\n",
       "\n",
       "    .dataframe tbody tr th {\n",
       "        vertical-align: top;\n",
       "    }\n",
       "\n",
       "    .dataframe thead th {\n",
       "        text-align: right;\n",
       "    }\n",
       "</style>\n",
       "<table border=\"1\" class=\"dataframe\">\n",
       "  <thead>\n",
       "    <tr style=\"text-align: right;\">\n",
       "      <th></th>\n",
       "      <th>EVM_Votes</th>\n",
       "      <th>Postal_Votes</th>\n",
       "      <th>Total_Votes</th>\n",
       "      <th>Percentage_of_Votes</th>\n",
       "      <th>ID</th>\n",
       "    </tr>\n",
       "  </thead>\n",
       "  <tbody>\n",
       "    <tr>\n",
       "      <th>0</th>\n",
       "      <td>102182.0</td>\n",
       "      <td>254.0</td>\n",
       "      <td>102436</td>\n",
       "      <td>50.58</td>\n",
       "      <td>1</td>\n",
       "    </tr>\n",
       "    <tr>\n",
       "      <th>1</th>\n",
       "      <td>77829.0</td>\n",
       "      <td>211.0</td>\n",
       "      <td>78040</td>\n",
       "      <td>38.54</td>\n",
       "      <td>2</td>\n",
       "    </tr>\n",
       "  </tbody>\n",
       "</table>\n",
       "</div>"
      ],
      "text/plain": [
       "   EVM_Votes  Postal_Votes  Total_Votes  Percentage_of_Votes ID\n",
       "0   102182.0         254.0       102436                50.58  1\n",
       "1    77829.0         211.0        78040                38.54  2"
      ]
     },
     "execution_count": 44,
     "metadata": {},
     "output_type": "execute_result"
    }
   ],
   "source": [
    "numerical_election_data.head(2)"
   ]
  },
  {
   "cell_type": "code",
   "execution_count": 45,
   "id": "5d9abfde",
   "metadata": {},
   "outputs": [
    {
     "data": {
      "text/plain": [
       "(8902, 5)"
      ]
     },
     "execution_count": 45,
     "metadata": {},
     "output_type": "execute_result"
    }
   ],
   "source": [
    "numerical_election_data.shape"
   ]
  },
  {
   "cell_type": "markdown",
   "id": "c958e83a",
   "metadata": {},
   "source": [
    "# "
   ]
  },
  {
   "cell_type": "markdown",
   "id": "7968875e",
   "metadata": {},
   "source": [
    "## Step 6- Handling Outlier:"
   ]
  },
  {
   "cell_type": "markdown",
   "id": "65e4801c",
   "metadata": {},
   "source": [
    "#### Observing columns for the outliers:"
   ]
  },
  {
   "cell_type": "code",
   "execution_count": 46,
   "id": "95d695be",
   "metadata": {},
   "outputs": [
    {
     "data": {
      "text/html": [
       "<div>\n",
       "<style scoped>\n",
       "    .dataframe tbody tr th:only-of-type {\n",
       "        vertical-align: middle;\n",
       "    }\n",
       "\n",
       "    .dataframe tbody tr th {\n",
       "        vertical-align: top;\n",
       "    }\n",
       "\n",
       "    .dataframe thead th {\n",
       "        text-align: right;\n",
       "    }\n",
       "</style>\n",
       "<table border=\"1\" class=\"dataframe\">\n",
       "  <thead>\n",
       "    <tr style=\"text-align: right;\">\n",
       "      <th></th>\n",
       "      <th>EVM_Votes</th>\n",
       "      <th>Postal_Votes</th>\n",
       "      <th>Total_Votes</th>\n",
       "      <th>Percentage_of_Votes</th>\n",
       "      <th>ID</th>\n",
       "    </tr>\n",
       "  </thead>\n",
       "  <tbody>\n",
       "    <tr>\n",
       "      <th>0</th>\n",
       "      <td>102182.0</td>\n",
       "      <td>254.0</td>\n",
       "      <td>102436</td>\n",
       "      <td>50.58</td>\n",
       "      <td>1</td>\n",
       "    </tr>\n",
       "    <tr>\n",
       "      <th>1</th>\n",
       "      <td>77829.0</td>\n",
       "      <td>211.0</td>\n",
       "      <td>78040</td>\n",
       "      <td>38.54</td>\n",
       "      <td>2</td>\n",
       "    </tr>\n",
       "    <tr>\n",
       "      <th>2</th>\n",
       "      <td>8236.0</td>\n",
       "      <td>18.0</td>\n",
       "      <td>8254</td>\n",
       "      <td>4.08</td>\n",
       "      <td>3</td>\n",
       "    </tr>\n",
       "    <tr>\n",
       "      <th>3</th>\n",
       "      <td>6009.0</td>\n",
       "      <td>8.0</td>\n",
       "      <td>6017</td>\n",
       "      <td>2.97</td>\n",
       "      <td>4</td>\n",
       "    </tr>\n",
       "    <tr>\n",
       "      <th>4</th>\n",
       "      <td>2195.0</td>\n",
       "      <td>8.0</td>\n",
       "      <td>2203</td>\n",
       "      <td>1.09</td>\n",
       "      <td>5</td>\n",
       "    </tr>\n",
       "  </tbody>\n",
       "</table>\n",
       "</div>"
      ],
      "text/plain": [
       "   EVM_Votes  Postal_Votes  Total_Votes  Percentage_of_Votes ID\n",
       "0   102182.0         254.0       102436                50.58  1\n",
       "1    77829.0         211.0        78040                38.54  2\n",
       "2     8236.0          18.0         8254                 4.08  3\n",
       "3     6009.0           8.0         6017                 2.97  4\n",
       "4     2195.0           8.0         2203                 1.09  5"
      ]
     },
     "execution_count": 46,
     "metadata": {},
     "output_type": "execute_result"
    }
   ],
   "source": [
    "numerical_election_data.head()"
   ]
  },
  {
   "cell_type": "code",
   "execution_count": 47,
   "id": "7a342958",
   "metadata": {},
   "outputs": [
    {
     "data": {
      "text/html": [
       "<div>\n",
       "<style scoped>\n",
       "    .dataframe tbody tr th:only-of-type {\n",
       "        vertical-align: middle;\n",
       "    }\n",
       "\n",
       "    .dataframe tbody tr th {\n",
       "        vertical-align: top;\n",
       "    }\n",
       "\n",
       "    .dataframe thead th {\n",
       "        text-align: right;\n",
       "    }\n",
       "</style>\n",
       "<table border=\"1\" class=\"dataframe\">\n",
       "  <thead>\n",
       "    <tr style=\"text-align: right;\">\n",
       "      <th></th>\n",
       "      <th>EVM_Votes</th>\n",
       "      <th>Postal_Votes</th>\n",
       "      <th>Total_Votes</th>\n",
       "      <th>Percentage_of_Votes</th>\n",
       "    </tr>\n",
       "  </thead>\n",
       "  <tbody>\n",
       "    <tr>\n",
       "      <th>count</th>\n",
       "      <td>8.902000e+03</td>\n",
       "      <td>8902.000000</td>\n",
       "      <td>8.902000e+03</td>\n",
       "      <td>8902.000000</td>\n",
       "    </tr>\n",
       "    <tr>\n",
       "      <th>mean</th>\n",
       "      <td>7.207613e+04</td>\n",
       "      <td>421.350932</td>\n",
       "      <td>7.249646e+04</td>\n",
       "      <td>6.088515</td>\n",
       "    </tr>\n",
       "    <tr>\n",
       "      <th>std</th>\n",
       "      <td>1.788711e+05</td>\n",
       "      <td>1339.386347</td>\n",
       "      <td>1.798988e+05</td>\n",
       "      <td>14.630071</td>\n",
       "    </tr>\n",
       "    <tr>\n",
       "      <th>min</th>\n",
       "      <td>5.800000e+01</td>\n",
       "      <td>1.000000</td>\n",
       "      <td>0.000000e+00</td>\n",
       "      <td>0.010000</td>\n",
       "    </tr>\n",
       "    <tr>\n",
       "      <th>25%</th>\n",
       "      <td>1.085250e+03</td>\n",
       "      <td>4.000000</td>\n",
       "      <td>1.094250e+03</td>\n",
       "      <td>0.090000</td>\n",
       "    </tr>\n",
       "    <tr>\n",
       "      <th>50%</th>\n",
       "      <td>2.769000e+03</td>\n",
       "      <td>11.000000</td>\n",
       "      <td>2.781000e+03</td>\n",
       "      <td>0.240000</td>\n",
       "    </tr>\n",
       "    <tr>\n",
       "      <th>75%</th>\n",
       "      <td>9.677000e+03</td>\n",
       "      <td>49.000000</td>\n",
       "      <td>9.759500e+03</td>\n",
       "      <td>0.810000</td>\n",
       "    </tr>\n",
       "    <tr>\n",
       "      <th>max</th>\n",
       "      <td>1.468549e+06</td>\n",
       "      <td>19827.000000</td>\n",
       "      <td>1.471885e+06</td>\n",
       "      <td>78.540000</td>\n",
       "    </tr>\n",
       "  </tbody>\n",
       "</table>\n",
       "</div>"
      ],
      "text/plain": [
       "          EVM_Votes  Postal_Votes   Total_Votes  Percentage_of_Votes\n",
       "count  8.902000e+03   8902.000000  8.902000e+03          8902.000000\n",
       "mean   7.207613e+04    421.350932  7.249646e+04             6.088515\n",
       "std    1.788711e+05   1339.386347  1.798988e+05            14.630071\n",
       "min    5.800000e+01      1.000000  0.000000e+00             0.010000\n",
       "25%    1.085250e+03      4.000000  1.094250e+03             0.090000\n",
       "50%    2.769000e+03     11.000000  2.781000e+03             0.240000\n",
       "75%    9.677000e+03     49.000000  9.759500e+03             0.810000\n",
       "max    1.468549e+06  19827.000000  1.471885e+06            78.540000"
      ]
     },
     "execution_count": 47,
     "metadata": {},
     "output_type": "execute_result"
    }
   ],
   "source": [
    "numerical_election_data.describe()"
   ]
  },
  {
   "cell_type": "markdown",
   "id": "685821a8",
   "metadata": {},
   "source": [
    "#### Calculating interquartile range (IQR) and upper-lower bounds for numerical data"
   ]
  },
  {
   "cell_type": "code",
   "execution_count": 48,
   "id": "a2c1c1b2",
   "metadata": {},
   "outputs": [],
   "source": [
    "Q1 = numerical_election_data.quantile(0.25)\n",
    "Q3 = numerical_election_data.quantile(0.75)\n",
    "IQR = Q3 - Q1\n",
    "\n",
    "lower_bound = Q1 - 1.5 * IQR\n",
    "upper_bound = Q3 + 1.5 * IQR"
   ]
  },
  {
   "cell_type": "markdown",
   "id": "1e958c13",
   "metadata": {},
   "source": [
    "#### Potential outliers in numerical variables"
   ]
  },
  {
   "cell_type": "code",
   "execution_count": 49,
   "id": "84a96307",
   "metadata": {},
   "outputs": [
    {
     "name": "stdout",
     "output_type": "stream",
     "text": [
      "Potential Outliers:\n",
      " EVM_Votes              1620\n",
      "Postal_Votes           1700\n",
      "Total_Votes            1619\n",
      "Percentage_of_Votes    1644\n",
      "ID                        0\n",
      "dtype: int64\n"
     ]
    }
   ],
   "source": [
    "potential_outliers = ((numerical_election_data < lower_bound) | (numerical_election_data > upper_bound)).sum()\n",
    "print(\"Potential Outliers:\\n\", potential_outliers)"
   ]
  },
  {
   "cell_type": "markdown",
   "id": "d7aeba77",
   "metadata": {},
   "source": [
    "#### Observing boxplot for numerical dataset"
   ]
  },
  {
   "cell_type": "markdown",
   "id": "84552498",
   "metadata": {},
   "source": [
    "- In a box plot, potential outliers are typically represented as individual points that fall outside the whiskers of the plot.\n",
    "- The whiskers of the box plot extend to the smallest and largest data points within a certain range from the lower and upper quartiles."
   ]
  },
  {
   "cell_type": "code",
   "execution_count": 50,
   "id": "5073c2db",
   "metadata": {},
   "outputs": [
    {
     "data": {
      "image/png": "[encoded data removed]",
      "text/plain": [
       "<Figure size 400x300 with 1 Axes>"
      ]
     },
     "metadata": {},
     "output_type": "display_data"
    },
    {
     "data": {
      "image/png": "[encoded data removed]",
      "text/plain": [
       "<Figure size 400x300 with 1 Axes>"
      ]
     },
     "metadata": {},
     "output_type": "display_data"
    },
    {
     "data": {
      "image/png": "[encoded data removed]",
      "text/plain": [
       "<Figure size 400x300 with 1 Axes>"
      ]
     },
     "metadata": {},
     "output_type": "display_data"
    },
    {
     "data": {
      "image/png": "[encoded data removed]",
      "text/plain": [
       "<Figure size 400x300 with 1 Axes>"
      ]
     },
     "metadata": {},
     "output_type": "display_data"
    },
    {
     "data": {
      "image/png": "[encoded data removed]",
      "text/plain": [
       "<Figure size 400x300 with 1 Axes>"
      ]
     },
     "metadata": {},
     "output_type": "display_data"
    }
   ],
   "source": [
    "for col in numerical_election_data:\n",
    "    plt.figure(figsize=(4, 3))\n",
    "    sns.boxplot(numerical_election_data[col])\n",
    "    plt.title(f'Boxplot of {col}')\n",
    "    plt.show()"
   ]
  },
  {
   "cell_type": "markdown",
   "id": "ecd0586a",
   "metadata": {},
   "source": [
    "- In election data, outliers are less common because predicting which party or candidate will recieve the most or least votes can be unpredictable due to factors like voter sentiment and local issues.\n",
    "- Outliers are not treated because they are numerous and appear to be accurate as per manual observation.\n",
    "- Removing the outliers will negatively impact the overall data analysis."
   ]
  },
  {
   "cell_type": "markdown",
   "id": "ed75a250",
   "metadata": {},
   "source": [
    "# "
   ]
  },
  {
   "cell_type": "markdown",
   "id": "17ecc137",
   "metadata": {},
   "source": [
    "## Step 7- Merging the categorical and the numerical data to get the dataset:"
   ]
  },
  {
   "cell_type": "code",
   "execution_count": 51,
   "id": "535854df",
   "metadata": {},
   "outputs": [
    {
     "data": {
      "text/plain": [
       "Index(['EVM_Votes', 'Postal_Votes', 'Total_Votes', 'Percentage_of_Votes',\n",
       "       'ID'],\n",
       "      dtype='object')"
      ]
     },
     "execution_count": 51,
     "metadata": {},
     "output_type": "execute_result"
    }
   ],
   "source": [
    "numerical_election_data.columns"
   ]
  },
  {
   "cell_type": "code",
   "execution_count": 52,
   "id": "fe5c9b08",
   "metadata": {},
   "outputs": [
    {
     "data": {
      "text/plain": [
       "Index(['ID', 'State', 'Constituency', 'Candidate', 'Party', 'Result'], dtype='object')"
      ]
     },
     "execution_count": 52,
     "metadata": {},
     "output_type": "execute_result"
    }
   ],
   "source": [
    "categorical_election_data.columns"
   ]
  },
  {
   "cell_type": "markdown",
   "id": "2d684ec4",
   "metadata": {},
   "source": [
    "#### Merging categorical and numerical dataset based on the common column"
   ]
  },
  {
   "cell_type": "code",
   "execution_count": 53,
   "id": "52f789a9",
   "metadata": {},
   "outputs": [],
   "source": [
    "election_data_merged = pd.merge(categorical_election_data,numerical_election_data,how = 'inner',left_on = 'ID',right_on = 'ID')"
   ]
  },
  {
   "cell_type": "code",
   "execution_count": 54,
   "id": "e7d08547",
   "metadata": {},
   "outputs": [
    {
     "name": "stdout",
     "output_type": "stream",
     "text": [
      "<class 'pandas.core.frame.DataFrame'>\n",
      "RangeIndex: 8902 entries, 0 to 8901\n",
      "Data columns (total 10 columns):\n",
      " #   Column               Non-Null Count  Dtype  \n",
      "---  ------               --------------  -----  \n",
      " 0   ID                   8902 non-null   object \n",
      " 1   State                8902 non-null   object \n",
      " 2   Constituency         8902 non-null   object \n",
      " 3   Candidate            8902 non-null   object \n",
      " 4   Party                8902 non-null   object \n",
      " 5   Result               8902 non-null   object \n",
      " 6   EVM_Votes            8902 non-null   float64\n",
      " 7   Postal_Votes         8902 non-null   float64\n",
      " 8   Total_Votes          8902 non-null   int64  \n",
      " 9   Percentage_of_Votes  8902 non-null   float64\n",
      "dtypes: float64(3), int64(1), object(6)\n",
      "memory usage: 695.6+ KB\n"
     ]
    }
   ],
   "source": [
    "election_data_merged.info()"
   ]
  },
  {
   "cell_type": "markdown",
   "id": "36f4bcc3",
   "metadata": {},
   "source": [
    "# "
   ]
  },
  {
   "cell_type": "markdown",
   "id": "980f2c0a",
   "metadata": {},
   "source": [
    "## Step 8- One Hot Encoding (Conversion of categorical variables to continuous variables):"
   ]
  },
  {
   "cell_type": "code",
   "execution_count": 55,
   "id": "9783ab96",
   "metadata": {},
   "outputs": [
    {
     "data": {
      "text/plain": [
       "ID                     8902\n",
       "State                    36\n",
       "Constituency            541\n",
       "Candidate              8101\n",
       "Party                   746\n",
       "Result                    2\n",
       "EVM_Votes              6080\n",
       "Postal_Votes           1446\n",
       "Total_Votes            6100\n",
       "Percentage_of_Votes    1556\n",
       "dtype: int64"
      ]
     },
     "execution_count": 55,
     "metadata": {},
     "output_type": "execute_result"
    }
   ],
   "source": [
    "election_data_merged.nunique()"
   ]
  },
  {
   "cell_type": "code",
   "execution_count": 56,
   "id": "bffd1121",
   "metadata": {},
   "outputs": [
    {
     "data": {
      "text/plain": [
       "2"
      ]
     },
     "execution_count": 56,
     "metadata": {},
     "output_type": "execute_result"
    }
   ],
   "source": [
    "election_data_merged.Result.nunique()"
   ]
  },
  {
   "cell_type": "code",
   "execution_count": 57,
   "id": "bcfdba9f",
   "metadata": {},
   "outputs": [],
   "source": [
    "election_data_merged_copy = election_data_merged.copy()"
   ]
  },
  {
   "cell_type": "markdown",
   "id": "f0fe2080",
   "metadata": {},
   "source": [
    "#### Transforming categorical variables into numerical format"
   ]
  },
  {
   "cell_type": "code",
   "execution_count": 58,
   "id": "3bed5bc3",
   "metadata": {},
   "outputs": [],
   "source": [
    "election_data_merged_copy = pd.get_dummies(election_data_merged_copy,columns = ['Result'], dtype=int)"
   ]
  },
  {
   "cell_type": "code",
   "execution_count": 59,
   "id": "33e1ea02",
   "metadata": {},
   "outputs": [
    {
     "data": {
      "text/plain": [
       "Index(['ID', 'State', 'Constituency', 'Candidate', 'Party', 'EVM_Votes',\n",
       "       'Postal_Votes', 'Total_Votes', 'Percentage_of_Votes', 'Result_Lost',\n",
       "       'Result_Won'],\n",
       "      dtype='object')"
      ]
     },
     "execution_count": 59,
     "metadata": {},
     "output_type": "execute_result"
    }
   ],
   "source": [
    "election_data_merged_copy.columns"
   ]
  },
  {
   "cell_type": "code",
   "execution_count": 60,
   "id": "4b433645",
   "metadata": {},
   "outputs": [
    {
     "data": {
      "text/html": [
       "<div>\n",
       "<style scoped>\n",
       "    .dataframe tbody tr th:only-of-type {\n",
       "        vertical-align: middle;\n",
       "    }\n",
       "\n",
       "    .dataframe tbody tr th {\n",
       "        vertical-align: top;\n",
       "    }\n",
       "\n",
       "    .dataframe thead th {\n",
       "        text-align: right;\n",
       "    }\n",
       "</style>\n",
       "<table border=\"1\" class=\"dataframe\">\n",
       "  <thead>\n",
       "    <tr style=\"text-align: right;\">\n",
       "      <th></th>\n",
       "      <th>ID</th>\n",
       "      <th>State</th>\n",
       "      <th>Constituency</th>\n",
       "      <th>Candidate</th>\n",
       "      <th>Party</th>\n",
       "      <th>EVM_Votes</th>\n",
       "      <th>Postal_Votes</th>\n",
       "      <th>Total_Votes</th>\n",
       "      <th>Percentage_of_Votes</th>\n",
       "      <th>Result_Lost</th>\n",
       "      <th>Result_Won</th>\n",
       "    </tr>\n",
       "  </thead>\n",
       "  <tbody>\n",
       "    <tr>\n",
       "      <th>0</th>\n",
       "      <td>1</td>\n",
       "      <td>Andaman &amp; Nicobar Islands</td>\n",
       "      <td>Andaman &amp; Nicobar Islands</td>\n",
       "      <td>BISHNU PADA RAY</td>\n",
       "      <td>Bharatiya Janata Party</td>\n",
       "      <td>102182.0</td>\n",
       "      <td>254.0</td>\n",
       "      <td>102436</td>\n",
       "      <td>50.58</td>\n",
       "      <td>0</td>\n",
       "      <td>1</td>\n",
       "    </tr>\n",
       "    <tr>\n",
       "      <th>1</th>\n",
       "      <td>2</td>\n",
       "      <td>Andaman &amp; Nicobar Islands</td>\n",
       "      <td>Andaman &amp; Nicobar Islands</td>\n",
       "      <td>KULDEEP RAI SHARMA</td>\n",
       "      <td>Indian National Congress</td>\n",
       "      <td>77829.0</td>\n",
       "      <td>211.0</td>\n",
       "      <td>78040</td>\n",
       "      <td>38.54</td>\n",
       "      <td>1</td>\n",
       "      <td>0</td>\n",
       "    </tr>\n",
       "    <tr>\n",
       "      <th>2</th>\n",
       "      <td>3</td>\n",
       "      <td>Andaman &amp; Nicobar Islands</td>\n",
       "      <td>Andaman &amp; Nicobar Islands</td>\n",
       "      <td>MANOJ PAUL</td>\n",
       "      <td>Andaman Nicobar Democratic Congress</td>\n",
       "      <td>8236.0</td>\n",
       "      <td>18.0</td>\n",
       "      <td>8254</td>\n",
       "      <td>4.08</td>\n",
       "      <td>1</td>\n",
       "      <td>0</td>\n",
       "    </tr>\n",
       "    <tr>\n",
       "      <th>3</th>\n",
       "      <td>4</td>\n",
       "      <td>Andaman &amp; Nicobar Islands</td>\n",
       "      <td>Andaman &amp; Nicobar Islands</td>\n",
       "      <td>D AYYAPPAN</td>\n",
       "      <td>Communist Party of India  (Marxist)</td>\n",
       "      <td>6009.0</td>\n",
       "      <td>8.0</td>\n",
       "      <td>6017</td>\n",
       "      <td>2.97</td>\n",
       "      <td>1</td>\n",
       "      <td>0</td>\n",
       "    </tr>\n",
       "    <tr>\n",
       "      <th>4</th>\n",
       "      <td>5</td>\n",
       "      <td>Andaman &amp; Nicobar Islands</td>\n",
       "      <td>Andaman &amp; Nicobar Islands</td>\n",
       "      <td>V.K. ABDUL AZIZ</td>\n",
       "      <td>Independent</td>\n",
       "      <td>2195.0</td>\n",
       "      <td>8.0</td>\n",
       "      <td>2203</td>\n",
       "      <td>1.09</td>\n",
       "      <td>1</td>\n",
       "      <td>0</td>\n",
       "    </tr>\n",
       "    <tr>\n",
       "      <th>5</th>\n",
       "      <td>6</td>\n",
       "      <td>Andaman &amp; Nicobar Islands</td>\n",
       "      <td>Andaman &amp; Nicobar Islands</td>\n",
       "      <td>K J B SELVARAJ</td>\n",
       "      <td>All India Anna Dravida Munnetra Kazhagam</td>\n",
       "      <td>911.0</td>\n",
       "      <td>3.0</td>\n",
       "      <td>914</td>\n",
       "      <td>0.45</td>\n",
       "      <td>1</td>\n",
       "      <td>0</td>\n",
       "    </tr>\n",
       "    <tr>\n",
       "      <th>6</th>\n",
       "      <td>7</td>\n",
       "      <td>Andaman &amp; Nicobar Islands</td>\n",
       "      <td>Andaman &amp; Nicobar Islands</td>\n",
       "      <td>DR ARUN KUMAR MALLIK</td>\n",
       "      <td>Bahujan Samaj Party</td>\n",
       "      <td>714.0</td>\n",
       "      <td>5.0</td>\n",
       "      <td>719</td>\n",
       "      <td>0.36</td>\n",
       "      <td>1</td>\n",
       "      <td>0</td>\n",
       "    </tr>\n",
       "    <tr>\n",
       "      <th>7</th>\n",
       "      <td>8</td>\n",
       "      <td>Andaman &amp; Nicobar Islands</td>\n",
       "      <td>Andaman &amp; Nicobar Islands</td>\n",
       "      <td>RINKU MALA MONDAL</td>\n",
       "      <td>Independent</td>\n",
       "      <td>539.0</td>\n",
       "      <td>3.0</td>\n",
       "      <td>542</td>\n",
       "      <td>0.27</td>\n",
       "      <td>1</td>\n",
       "      <td>0</td>\n",
       "    </tr>\n",
       "    <tr>\n",
       "      <th>8</th>\n",
       "      <td>9</td>\n",
       "      <td>Andaman &amp; Nicobar Islands</td>\n",
       "      <td>Andaman &amp; Nicobar Islands</td>\n",
       "      <td>K VENKAT RAM BABU</td>\n",
       "      <td>Independent</td>\n",
       "      <td>506.0</td>\n",
       "      <td>1.0</td>\n",
       "      <td>507</td>\n",
       "      <td>0.25</td>\n",
       "      <td>1</td>\n",
       "      <td>0</td>\n",
       "    </tr>\n",
       "    <tr>\n",
       "      <th>9</th>\n",
       "      <td>10</td>\n",
       "      <td>Andaman &amp; Nicobar Islands</td>\n",
       "      <td>Andaman &amp; Nicobar Islands</td>\n",
       "      <td>USHA KUMARI</td>\n",
       "      <td>Independent</td>\n",
       "      <td>378.0</td>\n",
       "      <td>2.0</td>\n",
       "      <td>380</td>\n",
       "      <td>0.19</td>\n",
       "      <td>1</td>\n",
       "      <td>0</td>\n",
       "    </tr>\n",
       "    <tr>\n",
       "      <th>10</th>\n",
       "      <td>11</td>\n",
       "      <td>Andaman &amp; Nicobar Islands</td>\n",
       "      <td>Andaman &amp; Nicobar Islands</td>\n",
       "      <td>SALAMAT MONDAL</td>\n",
       "      <td>Socialist Unity Centre Of India (COMMUNIST)</td>\n",
       "      <td>349.0</td>\n",
       "      <td>2.0</td>\n",
       "      <td>351</td>\n",
       "      <td>0.17</td>\n",
       "      <td>1</td>\n",
       "      <td>0</td>\n",
       "    </tr>\n",
       "    <tr>\n",
       "      <th>11</th>\n",
       "      <td>12</td>\n",
       "      <td>Andaman &amp; Nicobar Islands</td>\n",
       "      <td>Andaman &amp; Nicobar Islands</td>\n",
       "      <td>ANAND RAMNATH ARLEKAR</td>\n",
       "      <td>Independent</td>\n",
       "      <td>342.0</td>\n",
       "      <td>11.0</td>\n",
       "      <td>342</td>\n",
       "      <td>0.17</td>\n",
       "      <td>1</td>\n",
       "      <td>0</td>\n",
       "    </tr>\n",
       "    <tr>\n",
       "      <th>12</th>\n",
       "      <td>13</td>\n",
       "      <td>Andaman &amp; Nicobar Islands</td>\n",
       "      <td>Andaman &amp; Nicobar Islands</td>\n",
       "      <td>NOTA</td>\n",
       "      <td>None of the Above</td>\n",
       "      <td>1802.0</td>\n",
       "      <td>7.0</td>\n",
       "      <td>1809</td>\n",
       "      <td>0.89</td>\n",
       "      <td>1</td>\n",
       "      <td>0</td>\n",
       "    </tr>\n",
       "    <tr>\n",
       "      <th>13</th>\n",
       "      <td>14</td>\n",
       "      <td>Andhra Pradesh</td>\n",
       "      <td>Amalapuram (SC)</td>\n",
       "      <td>G M HARISH (BALAYOGI)</td>\n",
       "      <td>Telugu Desam</td>\n",
       "      <td>786149.0</td>\n",
       "      <td>10832.0</td>\n",
       "      <td>796981</td>\n",
       "      <td>61.25</td>\n",
       "      <td>0</td>\n",
       "      <td>1</td>\n",
       "    </tr>\n",
       "    <tr>\n",
       "      <th>14</th>\n",
       "      <td>15</td>\n",
       "      <td>Andhra Pradesh</td>\n",
       "      <td>Amalapuram (SC)</td>\n",
       "      <td>RAPAKA VARAPRASADA RAO</td>\n",
       "      <td>Yuvajana Sramika Rythu Congress Party</td>\n",
       "      <td>450362.0</td>\n",
       "      <td>4423.0</td>\n",
       "      <td>454785</td>\n",
       "      <td>34.95</td>\n",
       "      <td>1</td>\n",
       "      <td>0</td>\n",
       "    </tr>\n",
       "    <tr>\n",
       "      <th>15</th>\n",
       "      <td>16</td>\n",
       "      <td>Andhra Pradesh</td>\n",
       "      <td>Amalapuram (SC)</td>\n",
       "      <td>GOUTHAM JANGA</td>\n",
       "      <td>Indian National Congress</td>\n",
       "      <td>14523.0</td>\n",
       "      <td>559.0</td>\n",
       "      <td>15082</td>\n",
       "      <td>1.16</td>\n",
       "      <td>1</td>\n",
       "      <td>0</td>\n",
       "    </tr>\n",
       "    <tr>\n",
       "      <th>16</th>\n",
       "      <td>17</td>\n",
       "      <td>Andhra Pradesh</td>\n",
       "      <td>Amalapuram (SC)</td>\n",
       "      <td>DORABABU YALLA</td>\n",
       "      <td>Bahujan Samaj Party</td>\n",
       "      <td>5202.0</td>\n",
       "      <td>186.0</td>\n",
       "      <td>5388</td>\n",
       "      <td>0.41</td>\n",
       "      <td>1</td>\n",
       "      <td>0</td>\n",
       "    </tr>\n",
       "    <tr>\n",
       "      <th>17</th>\n",
       "      <td>18</td>\n",
       "      <td>Andhra Pradesh</td>\n",
       "      <td>Amalapuram (SC)</td>\n",
       "      <td>KATRU NAGA BABU</td>\n",
       "      <td>Telugu Nava Garjana Party</td>\n",
       "      <td>3736.0</td>\n",
       "      <td>5.0</td>\n",
       "      <td>3741</td>\n",
       "      <td>0.29</td>\n",
       "      <td>1</td>\n",
       "      <td>0</td>\n",
       "    </tr>\n",
       "    <tr>\n",
       "      <th>18</th>\n",
       "      <td>19</td>\n",
       "      <td>Andhra Pradesh</td>\n",
       "      <td>Amalapuram (SC)</td>\n",
       "      <td>VADDI LALITH KUMAR</td>\n",
       "      <td>Independent</td>\n",
       "      <td>2974.0</td>\n",
       "      <td>3.0</td>\n",
       "      <td>2977</td>\n",
       "      <td>0.23</td>\n",
       "      <td>1</td>\n",
       "      <td>0</td>\n",
       "    </tr>\n",
       "    <tr>\n",
       "      <th>19</th>\n",
       "      <td>20</td>\n",
       "      <td>Andhra Pradesh</td>\n",
       "      <td>Amalapuram (SC)</td>\n",
       "      <td>MAKEY DAVY PRASAD</td>\n",
       "      <td>Independent</td>\n",
       "      <td>2104.0</td>\n",
       "      <td>7.0</td>\n",
       "      <td>2111</td>\n",
       "      <td>0.16</td>\n",
       "      <td>1</td>\n",
       "      <td>0</td>\n",
       "    </tr>\n",
       "  </tbody>\n",
       "</table>\n",
       "</div>"
      ],
      "text/plain": [
       "    ID                      State               Constituency  \\\n",
       "0    1  Andaman & Nicobar Islands  Andaman & Nicobar Islands   \n",
       "1    2  Andaman & Nicobar Islands  Andaman & Nicobar Islands   \n",
       "2    3  Andaman & Nicobar Islands  Andaman & Nicobar Islands   \n",
       "3    4  Andaman & Nicobar Islands  Andaman & Nicobar Islands   \n",
       "4    5  Andaman & Nicobar Islands  Andaman & Nicobar Islands   \n",
       "5    6  Andaman & Nicobar Islands  Andaman & Nicobar Islands   \n",
       "6    7  Andaman & Nicobar Islands  Andaman & Nicobar Islands   \n",
       "7    8  Andaman & Nicobar Islands  Andaman & Nicobar Islands   \n",
       "8    9  Andaman & Nicobar Islands  Andaman & Nicobar Islands   \n",
       "9   10  Andaman & Nicobar Islands  Andaman & Nicobar Islands   \n",
       "10  11  Andaman & Nicobar Islands  Andaman & Nicobar Islands   \n",
       "11  12  Andaman & Nicobar Islands  Andaman & Nicobar Islands   \n",
       "12  13  Andaman & Nicobar Islands  Andaman & Nicobar Islands   \n",
       "13  14             Andhra Pradesh            Amalapuram (SC)   \n",
       "14  15             Andhra Pradesh            Amalapuram (SC)   \n",
       "15  16             Andhra Pradesh            Amalapuram (SC)   \n",
       "16  17             Andhra Pradesh            Amalapuram (SC)   \n",
       "17  18             Andhra Pradesh            Amalapuram (SC)   \n",
       "18  19             Andhra Pradesh            Amalapuram (SC)   \n",
       "19  20             Andhra Pradesh            Amalapuram (SC)   \n",
       "\n",
       "                 Candidate                                        Party  \\\n",
       "0          BISHNU PADA RAY                       Bharatiya Janata Party   \n",
       "1       KULDEEP RAI SHARMA                     Indian National Congress   \n",
       "2               MANOJ PAUL          Andaman Nicobar Democratic Congress   \n",
       "3               D AYYAPPAN          Communist Party of India  (Marxist)   \n",
       "4          V.K. ABDUL AZIZ                                  Independent   \n",
       "5           K J B SELVARAJ     All India Anna Dravida Munnetra Kazhagam   \n",
       "6     DR ARUN KUMAR MALLIK                          Bahujan Samaj Party   \n",
       "7        RINKU MALA MONDAL                                  Independent   \n",
       "8        K VENKAT RAM BABU                                  Independent   \n",
       "9              USHA KUMARI                                  Independent   \n",
       "10          SALAMAT MONDAL  Socialist Unity Centre Of India (COMMUNIST)   \n",
       "11   ANAND RAMNATH ARLEKAR                                  Independent   \n",
       "12                    NOTA                            None of the Above   \n",
       "13   G M HARISH (BALAYOGI)                                 Telugu Desam   \n",
       "14  RAPAKA VARAPRASADA RAO        Yuvajana Sramika Rythu Congress Party   \n",
       "15           GOUTHAM JANGA                     Indian National Congress   \n",
       "16          DORABABU YALLA                          Bahujan Samaj Party   \n",
       "17         KATRU NAGA BABU                    Telugu Nava Garjana Party   \n",
       "18      VADDI LALITH KUMAR                                  Independent   \n",
       "19       MAKEY DAVY PRASAD                                  Independent   \n",
       "\n",
       "    EVM_Votes  Postal_Votes  Total_Votes  Percentage_of_Votes  Result_Lost  \\\n",
       "0    102182.0         254.0       102436                50.58            0   \n",
       "1     77829.0         211.0        78040                38.54            1   \n",
       "2      8236.0          18.0         8254                 4.08            1   \n",
       "3      6009.0           8.0         6017                 2.97            1   \n",
       "4      2195.0           8.0         2203                 1.09            1   \n",
       "5       911.0           3.0          914                 0.45            1   \n",
       "6       714.0           5.0          719                 0.36            1   \n",
       "7       539.0           3.0          542                 0.27            1   \n",
       "8       506.0           1.0          507                 0.25            1   \n",
       "9       378.0           2.0          380                 0.19            1   \n",
       "10      349.0           2.0          351                 0.17            1   \n",
       "11      342.0          11.0          342                 0.17            1   \n",
       "12     1802.0           7.0         1809                 0.89            1   \n",
       "13   786149.0       10832.0       796981                61.25            0   \n",
       "14   450362.0        4423.0       454785                34.95            1   \n",
       "15    14523.0         559.0        15082                 1.16            1   \n",
       "16     5202.0         186.0         5388                 0.41            1   \n",
       "17     3736.0           5.0         3741                 0.29            1   \n",
       "18     2974.0           3.0         2977                 0.23            1   \n",
       "19     2104.0           7.0         2111                 0.16            1   \n",
       "\n",
       "    Result_Won  \n",
       "0            1  \n",
       "1            0  \n",
       "2            0  \n",
       "3            0  \n",
       "4            0  \n",
       "5            0  \n",
       "6            0  \n",
       "7            0  \n",
       "8            0  \n",
       "9            0  \n",
       "10           0  \n",
       "11           0  \n",
       "12           0  \n",
       "13           1  \n",
       "14           0  \n",
       "15           0  \n",
       "16           0  \n",
       "17           0  \n",
       "18           0  \n",
       "19           0  "
      ]
     },
     "execution_count": 60,
     "metadata": {},
     "output_type": "execute_result"
    }
   ],
   "source": [
    "election_data_merged_copy.head(20)"
   ]
  },
  {
   "cell_type": "markdown",
   "id": "082015cd",
   "metadata": {},
   "source": [
    "# "
   ]
  },
  {
   "cell_type": "markdown",
   "id": "c18e3452",
   "metadata": {},
   "source": [
    "## Step 9- Visualizing Data:"
   ]
  },
  {
   "cell_type": "markdown",
   "id": "548d3cc7",
   "metadata": {},
   "source": [
    "### 9.1 Univariate analysis:"
   ]
  },
  {
   "cell_type": "markdown",
   "id": "6dcd79e1",
   "metadata": {},
   "source": [
    "#### Bar charts for discrete data"
   ]
  },
  {
   "cell_type": "markdown",
   "id": "f2c7489f",
   "metadata": {},
   "source": [
    "- 9.1.1 Distribution of number of Candidates per State"
   ]
  },
  {
   "cell_type": "code",
   "execution_count": 61,
   "id": "b20972eb",
   "metadata": {},
   "outputs": [
    {
     "data": {
      "image/png": "[encoded data removed]",
      "text/plain": [
       "<Figure size 1000x600 with 1 Axes>"
      ]
     },
     "metadata": {},
     "output_type": "display_data"
    }
   ],
   "source": [
    "plt.figure(figsize=(10, 6))\n",
    "election_data_merged_copy['State'].value_counts(ascending=True).plot(kind='barh', color='skyblue', edgecolor='black')\n",
    "plt.title('Number of Candidates per State')\n",
    "plt.xlabel('Number of Candidates')\n",
    "plt.ylabel('State')\n",
    "plt.show()"
   ]
  },
  {
   "cell_type": "markdown",
   "id": "910a1f17",
   "metadata": {},
   "source": [
    "- 9.1.2 Distribution of Total Votes per State"
   ]
  },
  {
   "cell_type": "code",
   "execution_count": 62,
   "id": "b765b6ed",
   "metadata": {},
   "outputs": [
    {
     "data": {
      "image/png": "[encoded data removed]",
      "text/plain": [
       "<Figure size 1200x800 with 1 Axes>"
      ]
     },
     "metadata": {},
     "output_type": "display_data"
    }
   ],
   "source": [
    "plt.figure(figsize=(12, 8))\n",
    "election_data_merged_copy.groupby('State')['Total_Votes'].sum().sort_values(ascending=True).plot(kind='barh', color='green', edgecolor='black')\n",
    "plt.title('Total Votes per State')\n",
    "plt.xlabel('Total Votes')\n",
    "plt.ylabel('State')\n",
    "plt.show()"
   ]
  },
  {
   "cell_type": "markdown",
   "id": "f0316762",
   "metadata": {},
   "source": [
    "- 9.1.3 Distribution of Total Votes per Party"
   ]
  },
  {
   "cell_type": "code",
   "execution_count": 63,
   "id": "db3bd3bb",
   "metadata": {},
   "outputs": [
    {
     "data": {
      "image/png": "[encoded data removed]",
      "text/plain": [
       "<Figure size 1200x300 with 1 Axes>"
      ]
     },
     "metadata": {},
     "output_type": "display_data"
    }
   ],
   "source": [
    "plt.figure(figsize=(12, 3))\n",
    "election_data_merged_copy.groupby('Party')['Total_Votes'].sum().nlargest(5).sort_values().plot(kind='barh', color='lightcoral', edgecolor='black')\n",
    "plt.title('Top 5 Parties by Total Votes Across India')\n",
    "plt.xlabel('Total Votes')\n",
    "plt.ylabel('Party')\n",
    "plt.grid(axis='x')\n",
    "plt.show()"
   ]
  },
  {
   "cell_type": "markdown",
   "id": "ce5bc0f6",
   "metadata": {},
   "source": [
    "#### Pie charts for categorical breakdowns"
   ]
  },
  {
   "cell_type": "markdown",
   "id": "ddf55339",
   "metadata": {},
   "source": [
    "- 9.1.4 Distribution of Election Results"
   ]
  },
  {
   "cell_type": "code",
   "execution_count": 64,
   "id": "74417650",
   "metadata": {},
   "outputs": [
    {
     "data": {
      "image/png": "[encoded data removed]",
      "text/plain": [
       "<Figure size 640x480 with 1 Axes>"
      ]
     },
     "metadata": {},
     "output_type": "display_data"
    }
   ],
   "source": [
    "plt.pie(election_data_merged['Result'].value_counts(), labels=['Lost', 'Won'], autopct='%1.1f%%', startangle=140,colors=['thistle', 'lavender'])\n",
    "plt.title('Election Results')\n",
    "plt.show()"
   ]
  },
  {
   "cell_type": "markdown",
   "id": "a8e41240",
   "metadata": {},
   "source": [
    "#### Histograms for continuous data"
   ]
  },
  {
   "cell_type": "markdown",
   "id": "e94bdcee",
   "metadata": {},
   "source": [
    "- 9.1.5 Distribution of Percentage of Votes "
   ]
  },
  {
   "cell_type": "code",
   "execution_count": 65,
   "id": "0bf2255d",
   "metadata": {},
   "outputs": [
    {
     "name": "stderr",
     "output_type": "stream",
     "text": [
      "C:\\Users\\VJahn\\anaconda3\\Lib\\site-packages\\seaborn\\_oldcore.py:1119: FutureWarning: use_inf_as_na option is deprecated and will be removed in a future version. Convert inf values to NaN before operating instead.\n",
      "  with pd.option_context('mode.use_inf_as_na', True):\n"
     ]
    },
    {
     "data": {
      "text/plain": [
       "<Axes: xlabel='Percentage_of_Votes', ylabel='Count'>"
      ]
     },
     "execution_count": 65,
     "metadata": {},
     "output_type": "execute_result"
    },
    {
     "data": {
      "image/png": "[encoded data removed]",
      "text/plain": [
       "<Figure size 640x480 with 1 Axes>"
      ]
     },
     "metadata": {},
     "output_type": "display_data"
    }
   ],
   "source": [
    "sns.histplot(election_data_merged_copy['Percentage_of_Votes'], bins=15, kde=True, color='lightsteelblue')"
   ]
  },
  {
   "cell_type": "markdown",
   "id": "49998ebb",
   "metadata": {},
   "source": [
    "### 9.2 Bivariate analysis:"
   ]
  },
  {
   "cell_type": "markdown",
   "id": "d6170906",
   "metadata": {},
   "source": [
    "- 9.2.1 Distribution of Number of Wins and Losses by State"
   ]
  },
  {
   "cell_type": "code",
   "execution_count": 66,
   "id": "bdf76f0e",
   "metadata": {},
   "outputs": [
    {
     "data": {
      "text/plain": [
       "<Figure size 1200x800 with 0 Axes>"
      ]
     },
     "metadata": {},
     "output_type": "display_data"
    },
    {
     "data": {
      "image/png": "[encoded data removed]",
      "text/plain": [
       "<Figure size 1200x800 with 1 Axes>"
      ]
     },
     "metadata": {},
     "output_type": "display_data"
    }
   ],
   "source": [
    "plt.figure(figsize=(12, 8))\n",
    "election_data_merged.groupby(['State', 'Result']).size().unstack().plot(kind='barh', stacked=True, figsize=(12, 8))\n",
    "plt.title('Number of Wins and Losses by State')\n",
    "plt.xlabel('Count')\n",
    "plt.ylabel('State')\n",
    "plt.xticks(rotation=0)\n",
    "plt.legend(title='Result')\n",
    "plt.show()"
   ]
  },
  {
   "cell_type": "markdown",
   "id": "1c7d7d2b",
   "metadata": {},
   "source": [
    "- 9.2.2 Scatter Plot of Percentage votes against Total votes with Result Correlation"
   ]
  },
  {
   "cell_type": "code",
   "execution_count": 67,
   "id": "85604624",
   "metadata": {},
   "outputs": [
    {
     "data": {
      "image/png": "[encoded data removed]",
      "text/plain": [
       "<Figure size 640x480 with 1 Axes>"
      ]
     },
     "metadata": {},
     "output_type": "display_data"
    }
   ],
   "source": [
    "sns.scatterplot(x=election_data_merged.Percentage_of_Votes,y=election_data_merged.Total_Votes, hue=election_data_merged['Result'])\n",
    "plt.xlabel('Percentage of Votes')\n",
    "plt.ylabel('Total Votes')\n",
    "plt.title('Percentage votes against Total votes')\n",
    "plt.show()"
   ]
  },
  {
   "cell_type": "markdown",
   "id": "2989a806",
   "metadata": {},
   "source": [
    "### 9.3 Multivariate analysis:"
   ]
  },
  {
   "cell_type": "markdown",
   "id": "4244a809",
   "metadata": {},
   "source": [
    "#### Heatmap to visualize the intensity or magnitude of relationships between variables using color gradients"
   ]
  },
  {
   "cell_type": "markdown",
   "id": "1e62757d",
   "metadata": {},
   "source": [
    "- 9.3.1 Correlation Heatmap of Voting Data"
   ]
  },
  {
   "cell_type": "code",
   "execution_count": 68,
   "id": "1e20576d",
   "metadata": {},
   "outputs": [
    {
     "data": {
      "image/png": "[encoded data removed]",
      "text/plain": [
       "<Figure size 1000x800 with 2 Axes>"
      ]
     },
     "metadata": {},
     "output_type": "display_data"
    }
   ],
   "source": [
    "heatmap_data = election_data_merged_copy[['EVM_Votes', 'Postal_Votes', 'Total_Votes', 'Percentage_of_Votes', 'Result_Won', 'Result_Lost']]\n",
    "\n",
    "correlation_matrix = heatmap_data.corr()\n",
    "\n",
    "plt.figure(figsize=(10, 8))\n",
    "sns.heatmap(correlation_matrix, annot=True, cmap='Blues', vmin=-1, vmax=1)\n",
    "plt.title('Correlation Heatmap')\n",
    "plt.show()"
   ]
  },
  {
   "cell_type": "markdown",
   "id": "50f31f55",
   "metadata": {},
   "source": [
    "Strong Positive Correlations:\n",
    "- EVM Votes and Total Votes: There is a perfect correlation (correlation coefficient of 1) between EVM Votes and Total Votes, indicating that they vary in direct proportion with each other.\n",
    "- Percentage of Votes with EVM Votes: There is a very high correlation (correlation coefficient of 0.98) between Percentage of Votes and EVM Votes, suggesting that EVM Votes strongly influence the Percentage of Votes."
   ]
  },
  {
   "cell_type": "markdown",
   "id": "d4dcd708",
   "metadata": {},
   "source": [
    "# "
   ]
  },
  {
   "cell_type": "markdown",
   "id": "39d56e76",
   "metadata": {},
   "source": [
    "## Step 10- Feature Engineering: Correlation Analysis"
   ]
  },
  {
   "cell_type": "code",
   "execution_count": 69,
   "id": "773dae26",
   "metadata": {},
   "outputs": [
    {
     "data": {
      "text/html": [
       "<div>\n",
       "<style scoped>\n",
       "    .dataframe tbody tr th:only-of-type {\n",
       "        vertical-align: middle;\n",
       "    }\n",
       "\n",
       "    .dataframe tbody tr th {\n",
       "        vertical-align: top;\n",
       "    }\n",
       "\n",
       "    .dataframe thead th {\n",
       "        text-align: right;\n",
       "    }\n",
       "</style>\n",
       "<table border=\"1\" class=\"dataframe\">\n",
       "  <thead>\n",
       "    <tr style=\"text-align: right;\">\n",
       "      <th></th>\n",
       "      <th>ID</th>\n",
       "      <th>State</th>\n",
       "      <th>Constituency</th>\n",
       "      <th>Candidate</th>\n",
       "      <th>Party</th>\n",
       "      <th>EVM_Votes</th>\n",
       "      <th>Postal_Votes</th>\n",
       "      <th>Total_Votes</th>\n",
       "      <th>Percentage_of_Votes</th>\n",
       "      <th>Result_Lost</th>\n",
       "      <th>Result_Won</th>\n",
       "    </tr>\n",
       "  </thead>\n",
       "  <tbody>\n",
       "    <tr>\n",
       "      <th>0</th>\n",
       "      <td>1</td>\n",
       "      <td>Andaman &amp; Nicobar Islands</td>\n",
       "      <td>Andaman &amp; Nicobar Islands</td>\n",
       "      <td>BISHNU PADA RAY</td>\n",
       "      <td>Bharatiya Janata Party</td>\n",
       "      <td>102182.0</td>\n",
       "      <td>254.0</td>\n",
       "      <td>102436</td>\n",
       "      <td>50.58</td>\n",
       "      <td>0</td>\n",
       "      <td>1</td>\n",
       "    </tr>\n",
       "    <tr>\n",
       "      <th>1</th>\n",
       "      <td>2</td>\n",
       "      <td>Andaman &amp; Nicobar Islands</td>\n",
       "      <td>Andaman &amp; Nicobar Islands</td>\n",
       "      <td>KULDEEP RAI SHARMA</td>\n",
       "      <td>Indian National Congress</td>\n",
       "      <td>77829.0</td>\n",
       "      <td>211.0</td>\n",
       "      <td>78040</td>\n",
       "      <td>38.54</td>\n",
       "      <td>1</td>\n",
       "      <td>0</td>\n",
       "    </tr>\n",
       "    <tr>\n",
       "      <th>2</th>\n",
       "      <td>3</td>\n",
       "      <td>Andaman &amp; Nicobar Islands</td>\n",
       "      <td>Andaman &amp; Nicobar Islands</td>\n",
       "      <td>MANOJ PAUL</td>\n",
       "      <td>Andaman Nicobar Democratic Congress</td>\n",
       "      <td>8236.0</td>\n",
       "      <td>18.0</td>\n",
       "      <td>8254</td>\n",
       "      <td>4.08</td>\n",
       "      <td>1</td>\n",
       "      <td>0</td>\n",
       "    </tr>\n",
       "    <tr>\n",
       "      <th>3</th>\n",
       "      <td>4</td>\n",
       "      <td>Andaman &amp; Nicobar Islands</td>\n",
       "      <td>Andaman &amp; Nicobar Islands</td>\n",
       "      <td>D AYYAPPAN</td>\n",
       "      <td>Communist Party of India  (Marxist)</td>\n",
       "      <td>6009.0</td>\n",
       "      <td>8.0</td>\n",
       "      <td>6017</td>\n",
       "      <td>2.97</td>\n",
       "      <td>1</td>\n",
       "      <td>0</td>\n",
       "    </tr>\n",
       "    <tr>\n",
       "      <th>4</th>\n",
       "      <td>5</td>\n",
       "      <td>Andaman &amp; Nicobar Islands</td>\n",
       "      <td>Andaman &amp; Nicobar Islands</td>\n",
       "      <td>V.K. ABDUL AZIZ</td>\n",
       "      <td>Independent</td>\n",
       "      <td>2195.0</td>\n",
       "      <td>8.0</td>\n",
       "      <td>2203</td>\n",
       "      <td>1.09</td>\n",
       "      <td>1</td>\n",
       "      <td>0</td>\n",
       "    </tr>\n",
       "    <tr>\n",
       "      <th>5</th>\n",
       "      <td>6</td>\n",
       "      <td>Andaman &amp; Nicobar Islands</td>\n",
       "      <td>Andaman &amp; Nicobar Islands</td>\n",
       "      <td>K J B SELVARAJ</td>\n",
       "      <td>All India Anna Dravida Munnetra Kazhagam</td>\n",
       "      <td>911.0</td>\n",
       "      <td>3.0</td>\n",
       "      <td>914</td>\n",
       "      <td>0.45</td>\n",
       "      <td>1</td>\n",
       "      <td>0</td>\n",
       "    </tr>\n",
       "    <tr>\n",
       "      <th>6</th>\n",
       "      <td>7</td>\n",
       "      <td>Andaman &amp; Nicobar Islands</td>\n",
       "      <td>Andaman &amp; Nicobar Islands</td>\n",
       "      <td>DR ARUN KUMAR MALLIK</td>\n",
       "      <td>Bahujan Samaj Party</td>\n",
       "      <td>714.0</td>\n",
       "      <td>5.0</td>\n",
       "      <td>719</td>\n",
       "      <td>0.36</td>\n",
       "      <td>1</td>\n",
       "      <td>0</td>\n",
       "    </tr>\n",
       "    <tr>\n",
       "      <th>7</th>\n",
       "      <td>8</td>\n",
       "      <td>Andaman &amp; Nicobar Islands</td>\n",
       "      <td>Andaman &amp; Nicobar Islands</td>\n",
       "      <td>RINKU MALA MONDAL</td>\n",
       "      <td>Independent</td>\n",
       "      <td>539.0</td>\n",
       "      <td>3.0</td>\n",
       "      <td>542</td>\n",
       "      <td>0.27</td>\n",
       "      <td>1</td>\n",
       "      <td>0</td>\n",
       "    </tr>\n",
       "    <tr>\n",
       "      <th>8</th>\n",
       "      <td>9</td>\n",
       "      <td>Andaman &amp; Nicobar Islands</td>\n",
       "      <td>Andaman &amp; Nicobar Islands</td>\n",
       "      <td>K VENKAT RAM BABU</td>\n",
       "      <td>Independent</td>\n",
       "      <td>506.0</td>\n",
       "      <td>1.0</td>\n",
       "      <td>507</td>\n",
       "      <td>0.25</td>\n",
       "      <td>1</td>\n",
       "      <td>0</td>\n",
       "    </tr>\n",
       "    <tr>\n",
       "      <th>9</th>\n",
       "      <td>10</td>\n",
       "      <td>Andaman &amp; Nicobar Islands</td>\n",
       "      <td>Andaman &amp; Nicobar Islands</td>\n",
       "      <td>USHA KUMARI</td>\n",
       "      <td>Independent</td>\n",
       "      <td>378.0</td>\n",
       "      <td>2.0</td>\n",
       "      <td>380</td>\n",
       "      <td>0.19</td>\n",
       "      <td>1</td>\n",
       "      <td>0</td>\n",
       "    </tr>\n",
       "  </tbody>\n",
       "</table>\n",
       "</div>"
      ],
      "text/plain": [
       "   ID                      State               Constituency  \\\n",
       "0   1  Andaman & Nicobar Islands  Andaman & Nicobar Islands   \n",
       "1   2  Andaman & Nicobar Islands  Andaman & Nicobar Islands   \n",
       "2   3  Andaman & Nicobar Islands  Andaman & Nicobar Islands   \n",
       "3   4  Andaman & Nicobar Islands  Andaman & Nicobar Islands   \n",
       "4   5  Andaman & Nicobar Islands  Andaman & Nicobar Islands   \n",
       "5   6  Andaman & Nicobar Islands  Andaman & Nicobar Islands   \n",
       "6   7  Andaman & Nicobar Islands  Andaman & Nicobar Islands   \n",
       "7   8  Andaman & Nicobar Islands  Andaman & Nicobar Islands   \n",
       "8   9  Andaman & Nicobar Islands  Andaman & Nicobar Islands   \n",
       "9  10  Andaman & Nicobar Islands  Andaman & Nicobar Islands   \n",
       "\n",
       "              Candidate                                     Party  EVM_Votes  \\\n",
       "0       BISHNU PADA RAY                    Bharatiya Janata Party   102182.0   \n",
       "1    KULDEEP RAI SHARMA                  Indian National Congress    77829.0   \n",
       "2            MANOJ PAUL       Andaman Nicobar Democratic Congress     8236.0   \n",
       "3            D AYYAPPAN       Communist Party of India  (Marxist)     6009.0   \n",
       "4       V.K. ABDUL AZIZ                               Independent     2195.0   \n",
       "5        K J B SELVARAJ  All India Anna Dravida Munnetra Kazhagam      911.0   \n",
       "6  DR ARUN KUMAR MALLIK                       Bahujan Samaj Party      714.0   \n",
       "7     RINKU MALA MONDAL                               Independent      539.0   \n",
       "8     K VENKAT RAM BABU                               Independent      506.0   \n",
       "9           USHA KUMARI                               Independent      378.0   \n",
       "\n",
       "   Postal_Votes  Total_Votes  Percentage_of_Votes  Result_Lost  Result_Won  \n",
       "0         254.0       102436                50.58            0           1  \n",
       "1         211.0        78040                38.54            1           0  \n",
       "2          18.0         8254                 4.08            1           0  \n",
       "3           8.0         6017                 2.97            1           0  \n",
       "4           8.0         2203                 1.09            1           0  \n",
       "5           3.0          914                 0.45            1           0  \n",
       "6           5.0          719                 0.36            1           0  \n",
       "7           3.0          542                 0.27            1           0  \n",
       "8           1.0          507                 0.25            1           0  \n",
       "9           2.0          380                 0.19            1           0  "
      ]
     },
     "execution_count": 69,
     "metadata": {},
     "output_type": "execute_result"
    }
   ],
   "source": [
    "election_data_merged_copy.head(10)"
   ]
  },
  {
   "cell_type": "code",
   "execution_count": 70,
   "id": "7c25df24",
   "metadata": {},
   "outputs": [],
   "source": [
    "election_data_ML = election_data_merged_copy.copy()"
   ]
  },
  {
   "cell_type": "markdown",
   "id": "29f57d6b",
   "metadata": {},
   "source": [
    "#### Setting Result Variable like Won=1, Lost=0"
   ]
  },
  {
   "cell_type": "code",
   "execution_count": 71,
   "id": "3fb2b53b",
   "metadata": {},
   "outputs": [],
   "source": [
    "election_data_ML.drop(columns=['Result_Lost'], inplace=True)"
   ]
  },
  {
   "cell_type": "code",
   "execution_count": 72,
   "id": "a6b2def8",
   "metadata": {},
   "outputs": [],
   "source": [
    "election_data_ML = election_data_ML.rename(columns = {'Result_Won':'Result'})"
   ]
  },
  {
   "cell_type": "code",
   "execution_count": 73,
   "id": "c003f4c2",
   "metadata": {},
   "outputs": [
    {
     "data": {
      "text/plain": [
       "Index(['ID', 'State', 'Constituency', 'Candidate', 'Party', 'EVM_Votes',\n",
       "       'Postal_Votes', 'Total_Votes', 'Percentage_of_Votes', 'Result'],\n",
       "      dtype='object')"
      ]
     },
     "execution_count": 73,
     "metadata": {},
     "output_type": "execute_result"
    }
   ],
   "source": [
    "election_data_ML.columns"
   ]
  },
  {
   "cell_type": "code",
   "execution_count": 74,
   "id": "e19501a6",
   "metadata": {},
   "outputs": [
    {
     "data": {
      "text/html": [
       "<div>\n",
       "<style scoped>\n",
       "    .dataframe tbody tr th:only-of-type {\n",
       "        vertical-align: middle;\n",
       "    }\n",
       "\n",
       "    .dataframe tbody tr th {\n",
       "        vertical-align: top;\n",
       "    }\n",
       "\n",
       "    .dataframe thead th {\n",
       "        text-align: right;\n",
       "    }\n",
       "</style>\n",
       "<table border=\"1\" class=\"dataframe\">\n",
       "  <thead>\n",
       "    <tr style=\"text-align: right;\">\n",
       "      <th></th>\n",
       "      <th>ID</th>\n",
       "      <th>State</th>\n",
       "      <th>Constituency</th>\n",
       "      <th>Candidate</th>\n",
       "      <th>Party</th>\n",
       "      <th>EVM_Votes</th>\n",
       "      <th>Postal_Votes</th>\n",
       "      <th>Total_Votes</th>\n",
       "      <th>Percentage_of_Votes</th>\n",
       "      <th>Result</th>\n",
       "    </tr>\n",
       "  </thead>\n",
       "  <tbody>\n",
       "    <tr>\n",
       "      <th>0</th>\n",
       "      <td>1</td>\n",
       "      <td>Andaman &amp; Nicobar Islands</td>\n",
       "      <td>Andaman &amp; Nicobar Islands</td>\n",
       "      <td>BISHNU PADA RAY</td>\n",
       "      <td>Bharatiya Janata Party</td>\n",
       "      <td>102182.0</td>\n",
       "      <td>254.0</td>\n",
       "      <td>102436</td>\n",
       "      <td>50.58</td>\n",
       "      <td>1</td>\n",
       "    </tr>\n",
       "    <tr>\n",
       "      <th>1</th>\n",
       "      <td>2</td>\n",
       "      <td>Andaman &amp; Nicobar Islands</td>\n",
       "      <td>Andaman &amp; Nicobar Islands</td>\n",
       "      <td>KULDEEP RAI SHARMA</td>\n",
       "      <td>Indian National Congress</td>\n",
       "      <td>77829.0</td>\n",
       "      <td>211.0</td>\n",
       "      <td>78040</td>\n",
       "      <td>38.54</td>\n",
       "      <td>0</td>\n",
       "    </tr>\n",
       "    <tr>\n",
       "      <th>2</th>\n",
       "      <td>3</td>\n",
       "      <td>Andaman &amp; Nicobar Islands</td>\n",
       "      <td>Andaman &amp; Nicobar Islands</td>\n",
       "      <td>MANOJ PAUL</td>\n",
       "      <td>Andaman Nicobar Democratic Congress</td>\n",
       "      <td>8236.0</td>\n",
       "      <td>18.0</td>\n",
       "      <td>8254</td>\n",
       "      <td>4.08</td>\n",
       "      <td>0</td>\n",
       "    </tr>\n",
       "    <tr>\n",
       "      <th>3</th>\n",
       "      <td>4</td>\n",
       "      <td>Andaman &amp; Nicobar Islands</td>\n",
       "      <td>Andaman &amp; Nicobar Islands</td>\n",
       "      <td>D AYYAPPAN</td>\n",
       "      <td>Communist Party of India  (Marxist)</td>\n",
       "      <td>6009.0</td>\n",
       "      <td>8.0</td>\n",
       "      <td>6017</td>\n",
       "      <td>2.97</td>\n",
       "      <td>0</td>\n",
       "    </tr>\n",
       "    <tr>\n",
       "      <th>4</th>\n",
       "      <td>5</td>\n",
       "      <td>Andaman &amp; Nicobar Islands</td>\n",
       "      <td>Andaman &amp; Nicobar Islands</td>\n",
       "      <td>V.K. ABDUL AZIZ</td>\n",
       "      <td>Independent</td>\n",
       "      <td>2195.0</td>\n",
       "      <td>8.0</td>\n",
       "      <td>2203</td>\n",
       "      <td>1.09</td>\n",
       "      <td>0</td>\n",
       "    </tr>\n",
       "    <tr>\n",
       "      <th>5</th>\n",
       "      <td>6</td>\n",
       "      <td>Andaman &amp; Nicobar Islands</td>\n",
       "      <td>Andaman &amp; Nicobar Islands</td>\n",
       "      <td>K J B SELVARAJ</td>\n",
       "      <td>All India Anna Dravida Munnetra Kazhagam</td>\n",
       "      <td>911.0</td>\n",
       "      <td>3.0</td>\n",
       "      <td>914</td>\n",
       "      <td>0.45</td>\n",
       "      <td>0</td>\n",
       "    </tr>\n",
       "    <tr>\n",
       "      <th>6</th>\n",
       "      <td>7</td>\n",
       "      <td>Andaman &amp; Nicobar Islands</td>\n",
       "      <td>Andaman &amp; Nicobar Islands</td>\n",
       "      <td>DR ARUN KUMAR MALLIK</td>\n",
       "      <td>Bahujan Samaj Party</td>\n",
       "      <td>714.0</td>\n",
       "      <td>5.0</td>\n",
       "      <td>719</td>\n",
       "      <td>0.36</td>\n",
       "      <td>0</td>\n",
       "    </tr>\n",
       "    <tr>\n",
       "      <th>7</th>\n",
       "      <td>8</td>\n",
       "      <td>Andaman &amp; Nicobar Islands</td>\n",
       "      <td>Andaman &amp; Nicobar Islands</td>\n",
       "      <td>RINKU MALA MONDAL</td>\n",
       "      <td>Independent</td>\n",
       "      <td>539.0</td>\n",
       "      <td>3.0</td>\n",
       "      <td>542</td>\n",
       "      <td>0.27</td>\n",
       "      <td>0</td>\n",
       "    </tr>\n",
       "    <tr>\n",
       "      <th>8</th>\n",
       "      <td>9</td>\n",
       "      <td>Andaman &amp; Nicobar Islands</td>\n",
       "      <td>Andaman &amp; Nicobar Islands</td>\n",
       "      <td>K VENKAT RAM BABU</td>\n",
       "      <td>Independent</td>\n",
       "      <td>506.0</td>\n",
       "      <td>1.0</td>\n",
       "      <td>507</td>\n",
       "      <td>0.25</td>\n",
       "      <td>0</td>\n",
       "    </tr>\n",
       "    <tr>\n",
       "      <th>9</th>\n",
       "      <td>10</td>\n",
       "      <td>Andaman &amp; Nicobar Islands</td>\n",
       "      <td>Andaman &amp; Nicobar Islands</td>\n",
       "      <td>USHA KUMARI</td>\n",
       "      <td>Independent</td>\n",
       "      <td>378.0</td>\n",
       "      <td>2.0</td>\n",
       "      <td>380</td>\n",
       "      <td>0.19</td>\n",
       "      <td>0</td>\n",
       "    </tr>\n",
       "    <tr>\n",
       "      <th>10</th>\n",
       "      <td>11</td>\n",
       "      <td>Andaman &amp; Nicobar Islands</td>\n",
       "      <td>Andaman &amp; Nicobar Islands</td>\n",
       "      <td>SALAMAT MONDAL</td>\n",
       "      <td>Socialist Unity Centre Of India (COMMUNIST)</td>\n",
       "      <td>349.0</td>\n",
       "      <td>2.0</td>\n",
       "      <td>351</td>\n",
       "      <td>0.17</td>\n",
       "      <td>0</td>\n",
       "    </tr>\n",
       "    <tr>\n",
       "      <th>11</th>\n",
       "      <td>12</td>\n",
       "      <td>Andaman &amp; Nicobar Islands</td>\n",
       "      <td>Andaman &amp; Nicobar Islands</td>\n",
       "      <td>ANAND RAMNATH ARLEKAR</td>\n",
       "      <td>Independent</td>\n",
       "      <td>342.0</td>\n",
       "      <td>11.0</td>\n",
       "      <td>342</td>\n",
       "      <td>0.17</td>\n",
       "      <td>0</td>\n",
       "    </tr>\n",
       "    <tr>\n",
       "      <th>12</th>\n",
       "      <td>13</td>\n",
       "      <td>Andaman &amp; Nicobar Islands</td>\n",
       "      <td>Andaman &amp; Nicobar Islands</td>\n",
       "      <td>NOTA</td>\n",
       "      <td>None of the Above</td>\n",
       "      <td>1802.0</td>\n",
       "      <td>7.0</td>\n",
       "      <td>1809</td>\n",
       "      <td>0.89</td>\n",
       "      <td>0</td>\n",
       "    </tr>\n",
       "    <tr>\n",
       "      <th>13</th>\n",
       "      <td>14</td>\n",
       "      <td>Andhra Pradesh</td>\n",
       "      <td>Amalapuram (SC)</td>\n",
       "      <td>G M HARISH (BALAYOGI)</td>\n",
       "      <td>Telugu Desam</td>\n",
       "      <td>786149.0</td>\n",
       "      <td>10832.0</td>\n",
       "      <td>796981</td>\n",
       "      <td>61.25</td>\n",
       "      <td>1</td>\n",
       "    </tr>\n",
       "    <tr>\n",
       "      <th>14</th>\n",
       "      <td>15</td>\n",
       "      <td>Andhra Pradesh</td>\n",
       "      <td>Amalapuram (SC)</td>\n",
       "      <td>RAPAKA VARAPRASADA RAO</td>\n",
       "      <td>Yuvajana Sramika Rythu Congress Party</td>\n",
       "      <td>450362.0</td>\n",
       "      <td>4423.0</td>\n",
       "      <td>454785</td>\n",
       "      <td>34.95</td>\n",
       "      <td>0</td>\n",
       "    </tr>\n",
       "    <tr>\n",
       "      <th>15</th>\n",
       "      <td>16</td>\n",
       "      <td>Andhra Pradesh</td>\n",
       "      <td>Amalapuram (SC)</td>\n",
       "      <td>GOUTHAM JANGA</td>\n",
       "      <td>Indian National Congress</td>\n",
       "      <td>14523.0</td>\n",
       "      <td>559.0</td>\n",
       "      <td>15082</td>\n",
       "      <td>1.16</td>\n",
       "      <td>0</td>\n",
       "    </tr>\n",
       "    <tr>\n",
       "      <th>16</th>\n",
       "      <td>17</td>\n",
       "      <td>Andhra Pradesh</td>\n",
       "      <td>Amalapuram (SC)</td>\n",
       "      <td>DORABABU YALLA</td>\n",
       "      <td>Bahujan Samaj Party</td>\n",
       "      <td>5202.0</td>\n",
       "      <td>186.0</td>\n",
       "      <td>5388</td>\n",
       "      <td>0.41</td>\n",
       "      <td>0</td>\n",
       "    </tr>\n",
       "    <tr>\n",
       "      <th>17</th>\n",
       "      <td>18</td>\n",
       "      <td>Andhra Pradesh</td>\n",
       "      <td>Amalapuram (SC)</td>\n",
       "      <td>KATRU NAGA BABU</td>\n",
       "      <td>Telugu Nava Garjana Party</td>\n",
       "      <td>3736.0</td>\n",
       "      <td>5.0</td>\n",
       "      <td>3741</td>\n",
       "      <td>0.29</td>\n",
       "      <td>0</td>\n",
       "    </tr>\n",
       "    <tr>\n",
       "      <th>18</th>\n",
       "      <td>19</td>\n",
       "      <td>Andhra Pradesh</td>\n",
       "      <td>Amalapuram (SC)</td>\n",
       "      <td>VADDI LALITH KUMAR</td>\n",
       "      <td>Independent</td>\n",
       "      <td>2974.0</td>\n",
       "      <td>3.0</td>\n",
       "      <td>2977</td>\n",
       "      <td>0.23</td>\n",
       "      <td>0</td>\n",
       "    </tr>\n",
       "    <tr>\n",
       "      <th>19</th>\n",
       "      <td>20</td>\n",
       "      <td>Andhra Pradesh</td>\n",
       "      <td>Amalapuram (SC)</td>\n",
       "      <td>MAKEY DAVY PRASAD</td>\n",
       "      <td>Independent</td>\n",
       "      <td>2104.0</td>\n",
       "      <td>7.0</td>\n",
       "      <td>2111</td>\n",
       "      <td>0.16</td>\n",
       "      <td>0</td>\n",
       "    </tr>\n",
       "    <tr>\n",
       "      <th>20</th>\n",
       "      <td>21</td>\n",
       "      <td>Andhra Pradesh</td>\n",
       "      <td>Amalapuram (SC)</td>\n",
       "      <td>GUDE VENKATESWARULU</td>\n",
       "      <td>Independent</td>\n",
       "      <td>1741.0</td>\n",
       "      <td>4.0</td>\n",
       "      <td>1745</td>\n",
       "      <td>0.13</td>\n",
       "      <td>0</td>\n",
       "    </tr>\n",
       "    <tr>\n",
       "      <th>21</th>\n",
       "      <td>22</td>\n",
       "      <td>Andhra Pradesh</td>\n",
       "      <td>Amalapuram (SC)</td>\n",
       "      <td>RAMESH JILLELLA</td>\n",
       "      <td>Jatiya Jana Sena Party</td>\n",
       "      <td>866.0</td>\n",
       "      <td>6.0</td>\n",
       "      <td>872</td>\n",
       "      <td>0.07</td>\n",
       "      <td>0</td>\n",
       "    </tr>\n",
       "    <tr>\n",
       "      <th>22</th>\n",
       "      <td>23</td>\n",
       "      <td>Andhra Pradesh</td>\n",
       "      <td>Amalapuram (SC)</td>\n",
       "      <td>YALANGI RAMESH</td>\n",
       "      <td>Jaibhim Rao Bharat Party</td>\n",
       "      <td>738.0</td>\n",
       "      <td>2.0</td>\n",
       "      <td>740</td>\n",
       "      <td>0.06</td>\n",
       "      <td>0</td>\n",
       "    </tr>\n",
       "    <tr>\n",
       "      <th>23</th>\n",
       "      <td>24</td>\n",
       "      <td>Andhra Pradesh</td>\n",
       "      <td>Amalapuram (SC)</td>\n",
       "      <td>MATHA KRISHNA</td>\n",
       "      <td>Pyramid Party of India</td>\n",
       "      <td>718.0</td>\n",
       "      <td>1.0</td>\n",
       "      <td>719</td>\n",
       "      <td>0.06</td>\n",
       "      <td>0</td>\n",
       "    </tr>\n",
       "    <tr>\n",
       "      <th>24</th>\n",
       "      <td>25</td>\n",
       "      <td>Andhra Pradesh</td>\n",
       "      <td>Amalapuram (SC)</td>\n",
       "      <td>GIDDI JNANA PRAKASA RAO</td>\n",
       "      <td>Republican Party of India</td>\n",
       "      <td>717.0</td>\n",
       "      <td>9.0</td>\n",
       "      <td>726</td>\n",
       "      <td>0.06</td>\n",
       "      <td>0</td>\n",
       "    </tr>\n",
       "    <tr>\n",
       "      <th>25</th>\n",
       "      <td>26</td>\n",
       "      <td>Andhra Pradesh</td>\n",
       "      <td>Amalapuram (SC)</td>\n",
       "      <td>YADLA RAJESH</td>\n",
       "      <td>Liberation Congress Party</td>\n",
       "      <td>628.0</td>\n",
       "      <td>7.0</td>\n",
       "      <td>635</td>\n",
       "      <td>0.05</td>\n",
       "      <td>0</td>\n",
       "    </tr>\n",
       "    <tr>\n",
       "      <th>26</th>\n",
       "      <td>27</td>\n",
       "      <td>Andhra Pradesh</td>\n",
       "      <td>Amalapuram (SC)</td>\n",
       "      <td>KAPA KALYAN</td>\n",
       "      <td>Republican Party of India (A)</td>\n",
       "      <td>579.0</td>\n",
       "      <td>2.0</td>\n",
       "      <td>581</td>\n",
       "      <td>0.04</td>\n",
       "      <td>0</td>\n",
       "    </tr>\n",
       "    <tr>\n",
       "      <th>27</th>\n",
       "      <td>28</td>\n",
       "      <td>Andhra Pradesh</td>\n",
       "      <td>Amalapuram (SC)</td>\n",
       "      <td>PATHURI RAMESH</td>\n",
       "      <td>Peoples Party of India (Democratic)</td>\n",
       "      <td>502.0</td>\n",
       "      <td>3.0</td>\n",
       "      <td>505</td>\n",
       "      <td>0.04</td>\n",
       "      <td>0</td>\n",
       "    </tr>\n",
       "    <tr>\n",
       "      <th>28</th>\n",
       "      <td>29</td>\n",
       "      <td>Andhra Pradesh</td>\n",
       "      <td>Amalapuram (SC)</td>\n",
       "      <td>NOTA</td>\n",
       "      <td>None of the Above</td>\n",
       "      <td>13418.0</td>\n",
       "      <td>100.0</td>\n",
       "      <td>13518</td>\n",
       "      <td>1.04</td>\n",
       "      <td>0</td>\n",
       "    </tr>\n",
       "    <tr>\n",
       "      <th>29</th>\n",
       "      <td>30</td>\n",
       "      <td>Andhra Pradesh</td>\n",
       "      <td>Anakapalle</td>\n",
       "      <td>C.M.RAMESH</td>\n",
       "      <td>Bharatiya Janata Party</td>\n",
       "      <td>750027.0</td>\n",
       "      <td>12042.0</td>\n",
       "      <td>762069</td>\n",
       "      <td>57.50</td>\n",
       "      <td>1</td>\n",
       "    </tr>\n",
       "    <tr>\n",
       "      <th>30</th>\n",
       "      <td>31</td>\n",
       "      <td>Andhra Pradesh</td>\n",
       "      <td>Anakapalle</td>\n",
       "      <td>BUDI MUTYALA NAIDU</td>\n",
       "      <td>Yuvajana Sramika Rythu Congress Party</td>\n",
       "      <td>459762.0</td>\n",
       "      <td>5777.0</td>\n",
       "      <td>465539</td>\n",
       "      <td>35.13</td>\n",
       "      <td>0</td>\n",
       "    </tr>\n",
       "    <tr>\n",
       "      <th>31</th>\n",
       "      <td>32</td>\n",
       "      <td>Andhra Pradesh</td>\n",
       "      <td>Anakapalle</td>\n",
       "      <td>VEGI VENKATESH</td>\n",
       "      <td>Indian National Congress</td>\n",
       "      <td>24833.0</td>\n",
       "      <td>818.0</td>\n",
       "      <td>25651</td>\n",
       "      <td>1.94</td>\n",
       "      <td>0</td>\n",
       "    </tr>\n",
       "    <tr>\n",
       "      <th>32</th>\n",
       "      <td>33</td>\n",
       "      <td>Andhra Pradesh</td>\n",
       "      <td>Anakapalle</td>\n",
       "      <td>PALAKA SREERAMA MURTHY</td>\n",
       "      <td>Bahujan Samaj Party</td>\n",
       "      <td>19082.0</td>\n",
       "      <td>75.0</td>\n",
       "      <td>19157</td>\n",
       "      <td>1.45</td>\n",
       "      <td>0</td>\n",
       "    </tr>\n",
       "    <tr>\n",
       "      <th>33</th>\n",
       "      <td>34</td>\n",
       "      <td>Andhra Pradesh</td>\n",
       "      <td>Anakapalle</td>\n",
       "      <td>VANKAYALA RAMACHANDRA RAO</td>\n",
       "      <td>Independent</td>\n",
       "      <td>4001.0</td>\n",
       "      <td>1.0</td>\n",
       "      <td>4002</td>\n",
       "      <td>0.30</td>\n",
       "      <td>0</td>\n",
       "    </tr>\n",
       "    <tr>\n",
       "      <th>34</th>\n",
       "      <td>35</td>\n",
       "      <td>Andhra Pradesh</td>\n",
       "      <td>Anakapalle</td>\n",
       "      <td>LOVARAJU SIDDHA</td>\n",
       "      <td>Independent</td>\n",
       "      <td>3845.0</td>\n",
       "      <td>7.0</td>\n",
       "      <td>3852</td>\n",
       "      <td>0.29</td>\n",
       "      <td>0</td>\n",
       "    </tr>\n",
       "    <tr>\n",
       "      <th>35</th>\n",
       "      <td>36</td>\n",
       "      <td>Andhra Pradesh</td>\n",
       "      <td>Anakapalle</td>\n",
       "      <td>KRISHNA SWAROOP VADLAMURI</td>\n",
       "      <td>Dalita Bahujana Party</td>\n",
       "      <td>3549.0</td>\n",
       "      <td>8.0</td>\n",
       "      <td>3557</td>\n",
       "      <td>0.27</td>\n",
       "      <td>0</td>\n",
       "    </tr>\n",
       "    <tr>\n",
       "      <th>36</th>\n",
       "      <td>37</td>\n",
       "      <td>Andhra Pradesh</td>\n",
       "      <td>Anakapalle</td>\n",
       "      <td>GARA SURYA RAO</td>\n",
       "      <td>Independent</td>\n",
       "      <td>3116.0</td>\n",
       "      <td>8.0</td>\n",
       "      <td>3124</td>\n",
       "      <td>0.24</td>\n",
       "      <td>0</td>\n",
       "    </tr>\n",
       "    <tr>\n",
       "      <th>37</th>\n",
       "      <td>38</td>\n",
       "      <td>Andhra Pradesh</td>\n",
       "      <td>Anakapalle</td>\n",
       "      <td>APPALA RAJU NAMMI</td>\n",
       "      <td>Bharatha Chaitanya Yuvajana Party</td>\n",
       "      <td>2589.0</td>\n",
       "      <td>30.0</td>\n",
       "      <td>2619</td>\n",
       "      <td>0.20</td>\n",
       "      <td>0</td>\n",
       "    </tr>\n",
       "    <tr>\n",
       "      <th>38</th>\n",
       "      <td>39</td>\n",
       "      <td>Andhra Pradesh</td>\n",
       "      <td>Anakapalle</td>\n",
       "      <td>NAGESWARA RAO PETLA</td>\n",
       "      <td>Independent</td>\n",
       "      <td>2179.0</td>\n",
       "      <td>5.0</td>\n",
       "      <td>2184</td>\n",
       "      <td>0.16</td>\n",
       "      <td>0</td>\n",
       "    </tr>\n",
       "    <tr>\n",
       "      <th>39</th>\n",
       "      <td>40</td>\n",
       "      <td>Andhra Pradesh</td>\n",
       "      <td>Anakapalle</td>\n",
       "      <td>ADARI SARAT CHANDRA</td>\n",
       "      <td>Jai Bharat National Party</td>\n",
       "      <td>1886.0</td>\n",
       "      <td>27.0</td>\n",
       "      <td>1913</td>\n",
       "      <td>0.14</td>\n",
       "      <td>0</td>\n",
       "    </tr>\n",
       "    <tr>\n",
       "      <th>40</th>\n",
       "      <td>41</td>\n",
       "      <td>Andhra Pradesh</td>\n",
       "      <td>Anakapalle</td>\n",
       "      <td>VIJAYA LAKSHMI KARRI</td>\n",
       "      <td>Pyramid Party of India</td>\n",
       "      <td>1578.0</td>\n",
       "      <td>13.0</td>\n",
       "      <td>1591</td>\n",
       "      <td>0.12</td>\n",
       "      <td>0</td>\n",
       "    </tr>\n",
       "    <tr>\n",
       "      <th>41</th>\n",
       "      <td>42</td>\n",
       "      <td>Andhra Pradesh</td>\n",
       "      <td>Anakapalle</td>\n",
       "      <td>DR. THUMMAPALA HARI  SHANKAR</td>\n",
       "      <td>Independent</td>\n",
       "      <td>1567.0</td>\n",
       "      <td>9.0</td>\n",
       "      <td>1576</td>\n",
       "      <td>0.12</td>\n",
       "      <td>0</td>\n",
       "    </tr>\n",
       "    <tr>\n",
       "      <th>42</th>\n",
       "      <td>43</td>\n",
       "      <td>Andhra Pradesh</td>\n",
       "      <td>Anakapalle</td>\n",
       "      <td>JUNNURI J SRINIVAS</td>\n",
       "      <td>Independent</td>\n",
       "      <td>1195.0</td>\n",
       "      <td>6.0</td>\n",
       "      <td>1201</td>\n",
       "      <td>0.09</td>\n",
       "      <td>0</td>\n",
       "    </tr>\n",
       "    <tr>\n",
       "      <th>43</th>\n",
       "      <td>44</td>\n",
       "      <td>Andhra Pradesh</td>\n",
       "      <td>Anakapalle</td>\n",
       "      <td>APPALANAIDU TUMMAGUNTA</td>\n",
       "      <td>Independent</td>\n",
       "      <td>1055.0</td>\n",
       "      <td>7.0</td>\n",
       "      <td>1062</td>\n",
       "      <td>0.08</td>\n",
       "      <td>0</td>\n",
       "    </tr>\n",
       "    <tr>\n",
       "      <th>44</th>\n",
       "      <td>45</td>\n",
       "      <td>Andhra Pradesh</td>\n",
       "      <td>Anakapalle</td>\n",
       "      <td>NOTA</td>\n",
       "      <td>None of the Above</td>\n",
       "      <td>26084.0</td>\n",
       "      <td>151.0</td>\n",
       "      <td>26235</td>\n",
       "      <td>1.98</td>\n",
       "      <td>0</td>\n",
       "    </tr>\n",
       "    <tr>\n",
       "      <th>45</th>\n",
       "      <td>46</td>\n",
       "      <td>Andhra Pradesh</td>\n",
       "      <td>Ananthapur</td>\n",
       "      <td>AMBICA G LAKSHMINARAYANA VALMIKI</td>\n",
       "      <td>Telugu Desam</td>\n",
       "      <td>755862.0</td>\n",
       "      <td>12383.0</td>\n",
       "      <td>768245</td>\n",
       "      <td>53.33</td>\n",
       "      <td>1</td>\n",
       "    </tr>\n",
       "    <tr>\n",
       "      <th>46</th>\n",
       "      <td>47</td>\n",
       "      <td>Andhra Pradesh</td>\n",
       "      <td>Ananthapur</td>\n",
       "      <td>MALAGUNDLA SANKAR NARAYANA</td>\n",
       "      <td>Yuvajana Sramika Rythu Congress Party</td>\n",
       "      <td>573769.0</td>\n",
       "      <td>5921.0</td>\n",
       "      <td>579690</td>\n",
       "      <td>40.24</td>\n",
       "      <td>0</td>\n",
       "    </tr>\n",
       "    <tr>\n",
       "      <th>47</th>\n",
       "      <td>48</td>\n",
       "      <td>Andhra Pradesh</td>\n",
       "      <td>Ananthapur</td>\n",
       "      <td>MALLIKARJUNA VAJJALA</td>\n",
       "      <td>Indian National Congress</td>\n",
       "      <td>41954.0</td>\n",
       "      <td>1263.0</td>\n",
       "      <td>43217</td>\n",
       "      <td>3.00</td>\n",
       "      <td>0</td>\n",
       "    </tr>\n",
       "    <tr>\n",
       "      <th>48</th>\n",
       "      <td>49</td>\n",
       "      <td>Andhra Pradesh</td>\n",
       "      <td>Ananthapur</td>\n",
       "      <td>G.V.RAMANA REDDY</td>\n",
       "      <td>Independent</td>\n",
       "      <td>6436.0</td>\n",
       "      <td>3.0</td>\n",
       "      <td>6439</td>\n",
       "      <td>0.45</td>\n",
       "      <td>0</td>\n",
       "    </tr>\n",
       "    <tr>\n",
       "      <th>49</th>\n",
       "      <td>50</td>\n",
       "      <td>Andhra Pradesh</td>\n",
       "      <td>Ananthapur</td>\n",
       "      <td>BANASI NARAYANAPPA</td>\n",
       "      <td>Bahujan Samaj Party</td>\n",
       "      <td>6280.0</td>\n",
       "      <td>116.0</td>\n",
       "      <td>6396</td>\n",
       "      <td>0.44</td>\n",
       "      <td>0</td>\n",
       "    </tr>\n",
       "  </tbody>\n",
       "</table>\n",
       "</div>"
      ],
      "text/plain": [
       "    ID                      State               Constituency  \\\n",
       "0    1  Andaman & Nicobar Islands  Andaman & Nicobar Islands   \n",
       "1    2  Andaman & Nicobar Islands  Andaman & Nicobar Islands   \n",
       "2    3  Andaman & Nicobar Islands  Andaman & Nicobar Islands   \n",
       "3    4  Andaman & Nicobar Islands  Andaman & Nicobar Islands   \n",
       "4    5  Andaman & Nicobar Islands  Andaman & Nicobar Islands   \n",
       "5    6  Andaman & Nicobar Islands  Andaman & Nicobar Islands   \n",
       "6    7  Andaman & Nicobar Islands  Andaman & Nicobar Islands   \n",
       "7    8  Andaman & Nicobar Islands  Andaman & Nicobar Islands   \n",
       "8    9  Andaman & Nicobar Islands  Andaman & Nicobar Islands   \n",
       "9   10  Andaman & Nicobar Islands  Andaman & Nicobar Islands   \n",
       "10  11  Andaman & Nicobar Islands  Andaman & Nicobar Islands   \n",
       "11  12  Andaman & Nicobar Islands  Andaman & Nicobar Islands   \n",
       "12  13  Andaman & Nicobar Islands  Andaman & Nicobar Islands   \n",
       "13  14             Andhra Pradesh            Amalapuram (SC)   \n",
       "14  15             Andhra Pradesh            Amalapuram (SC)   \n",
       "15  16             Andhra Pradesh            Amalapuram (SC)   \n",
       "16  17             Andhra Pradesh            Amalapuram (SC)   \n",
       "17  18             Andhra Pradesh            Amalapuram (SC)   \n",
       "18  19             Andhra Pradesh            Amalapuram (SC)   \n",
       "19  20             Andhra Pradesh            Amalapuram (SC)   \n",
       "20  21             Andhra Pradesh            Amalapuram (SC)   \n",
       "21  22             Andhra Pradesh            Amalapuram (SC)   \n",
       "22  23             Andhra Pradesh            Amalapuram (SC)   \n",
       "23  24             Andhra Pradesh            Amalapuram (SC)   \n",
       "24  25             Andhra Pradesh            Amalapuram (SC)   \n",
       "25  26             Andhra Pradesh            Amalapuram (SC)   \n",
       "26  27             Andhra Pradesh            Amalapuram (SC)   \n",
       "27  28             Andhra Pradesh            Amalapuram (SC)   \n",
       "28  29             Andhra Pradesh            Amalapuram (SC)   \n",
       "29  30             Andhra Pradesh                 Anakapalle   \n",
       "30  31             Andhra Pradesh                 Anakapalle   \n",
       "31  32             Andhra Pradesh                 Anakapalle   \n",
       "32  33             Andhra Pradesh                 Anakapalle   \n",
       "33  34             Andhra Pradesh                 Anakapalle   \n",
       "34  35             Andhra Pradesh                 Anakapalle   \n",
       "35  36             Andhra Pradesh                 Anakapalle   \n",
       "36  37             Andhra Pradesh                 Anakapalle   \n",
       "37  38             Andhra Pradesh                 Anakapalle   \n",
       "38  39             Andhra Pradesh                 Anakapalle   \n",
       "39  40             Andhra Pradesh                 Anakapalle   \n",
       "40  41             Andhra Pradesh                 Anakapalle   \n",
       "41  42             Andhra Pradesh                 Anakapalle   \n",
       "42  43             Andhra Pradesh                 Anakapalle   \n",
       "43  44             Andhra Pradesh                 Anakapalle   \n",
       "44  45             Andhra Pradesh                 Anakapalle   \n",
       "45  46             Andhra Pradesh                 Ananthapur   \n",
       "46  47             Andhra Pradesh                 Ananthapur   \n",
       "47  48             Andhra Pradesh                 Ananthapur   \n",
       "48  49             Andhra Pradesh                 Ananthapur   \n",
       "49  50             Andhra Pradesh                 Ananthapur   \n",
       "\n",
       "                           Candidate  \\\n",
       "0                    BISHNU PADA RAY   \n",
       "1                 KULDEEP RAI SHARMA   \n",
       "2                         MANOJ PAUL   \n",
       "3                         D AYYAPPAN   \n",
       "4                    V.K. ABDUL AZIZ   \n",
       "5                     K J B SELVARAJ   \n",
       "6               DR ARUN KUMAR MALLIK   \n",
       "7                  RINKU MALA MONDAL   \n",
       "8                  K VENKAT RAM BABU   \n",
       "9                        USHA KUMARI   \n",
       "10                    SALAMAT MONDAL   \n",
       "11             ANAND RAMNATH ARLEKAR   \n",
       "12                              NOTA   \n",
       "13             G M HARISH (BALAYOGI)   \n",
       "14            RAPAKA VARAPRASADA RAO   \n",
       "15                     GOUTHAM JANGA   \n",
       "16                    DORABABU YALLA   \n",
       "17                   KATRU NAGA BABU   \n",
       "18                VADDI LALITH KUMAR   \n",
       "19                 MAKEY DAVY PRASAD   \n",
       "20               GUDE VENKATESWARULU   \n",
       "21                   RAMESH JILLELLA   \n",
       "22                    YALANGI RAMESH   \n",
       "23                     MATHA KRISHNA   \n",
       "24           GIDDI JNANA PRAKASA RAO   \n",
       "25                      YADLA RAJESH   \n",
       "26                       KAPA KALYAN   \n",
       "27                    PATHURI RAMESH   \n",
       "28                              NOTA   \n",
       "29                        C.M.RAMESH   \n",
       "30                BUDI MUTYALA NAIDU   \n",
       "31                    VEGI VENKATESH   \n",
       "32            PALAKA SREERAMA MURTHY   \n",
       "33         VANKAYALA RAMACHANDRA RAO   \n",
       "34                   LOVARAJU SIDDHA   \n",
       "35         KRISHNA SWAROOP VADLAMURI   \n",
       "36                    GARA SURYA RAO   \n",
       "37                 APPALA RAJU NAMMI   \n",
       "38               NAGESWARA RAO PETLA   \n",
       "39               ADARI SARAT CHANDRA   \n",
       "40              VIJAYA LAKSHMI KARRI   \n",
       "41      DR. THUMMAPALA HARI  SHANKAR   \n",
       "42                JUNNURI J SRINIVAS   \n",
       "43            APPALANAIDU TUMMAGUNTA   \n",
       "44                              NOTA   \n",
       "45  AMBICA G LAKSHMINARAYANA VALMIKI   \n",
       "46        MALAGUNDLA SANKAR NARAYANA   \n",
       "47              MALLIKARJUNA VAJJALA   \n",
       "48                  G.V.RAMANA REDDY   \n",
       "49                BANASI NARAYANAPPA   \n",
       "\n",
       "                                          Party  EVM_Votes  Postal_Votes  \\\n",
       "0                        Bharatiya Janata Party   102182.0         254.0   \n",
       "1                      Indian National Congress    77829.0         211.0   \n",
       "2           Andaman Nicobar Democratic Congress     8236.0          18.0   \n",
       "3           Communist Party of India  (Marxist)     6009.0           8.0   \n",
       "4                                   Independent     2195.0           8.0   \n",
       "5      All India Anna Dravida Munnetra Kazhagam      911.0           3.0   \n",
       "6                           Bahujan Samaj Party      714.0           5.0   \n",
       "7                                   Independent      539.0           3.0   \n",
       "8                                   Independent      506.0           1.0   \n",
       "9                                   Independent      378.0           2.0   \n",
       "10  Socialist Unity Centre Of India (COMMUNIST)      349.0           2.0   \n",
       "11                                  Independent      342.0          11.0   \n",
       "12                            None of the Above     1802.0           7.0   \n",
       "13                                 Telugu Desam   786149.0       10832.0   \n",
       "14        Yuvajana Sramika Rythu Congress Party   450362.0        4423.0   \n",
       "15                     Indian National Congress    14523.0         559.0   \n",
       "16                          Bahujan Samaj Party     5202.0         186.0   \n",
       "17                    Telugu Nava Garjana Party     3736.0           5.0   \n",
       "18                                  Independent     2974.0           3.0   \n",
       "19                                  Independent     2104.0           7.0   \n",
       "20                                  Independent     1741.0           4.0   \n",
       "21                       Jatiya Jana Sena Party      866.0           6.0   \n",
       "22                     Jaibhim Rao Bharat Party      738.0           2.0   \n",
       "23                       Pyramid Party of India      718.0           1.0   \n",
       "24                    Republican Party of India      717.0           9.0   \n",
       "25                    Liberation Congress Party      628.0           7.0   \n",
       "26                Republican Party of India (A)      579.0           2.0   \n",
       "27          Peoples Party of India (Democratic)      502.0           3.0   \n",
       "28                            None of the Above    13418.0         100.0   \n",
       "29                       Bharatiya Janata Party   750027.0       12042.0   \n",
       "30        Yuvajana Sramika Rythu Congress Party   459762.0        5777.0   \n",
       "31                     Indian National Congress    24833.0         818.0   \n",
       "32                          Bahujan Samaj Party    19082.0          75.0   \n",
       "33                                  Independent     4001.0           1.0   \n",
       "34                                  Independent     3845.0           7.0   \n",
       "35                        Dalita Bahujana Party     3549.0           8.0   \n",
       "36                                  Independent     3116.0           8.0   \n",
       "37            Bharatha Chaitanya Yuvajana Party     2589.0          30.0   \n",
       "38                                  Independent     2179.0           5.0   \n",
       "39                    Jai Bharat National Party     1886.0          27.0   \n",
       "40                       Pyramid Party of India     1578.0          13.0   \n",
       "41                                  Independent     1567.0           9.0   \n",
       "42                                  Independent     1195.0           6.0   \n",
       "43                                  Independent     1055.0           7.0   \n",
       "44                            None of the Above    26084.0         151.0   \n",
       "45                                 Telugu Desam   755862.0       12383.0   \n",
       "46        Yuvajana Sramika Rythu Congress Party   573769.0        5921.0   \n",
       "47                     Indian National Congress    41954.0        1263.0   \n",
       "48                                  Independent     6436.0           3.0   \n",
       "49                          Bahujan Samaj Party     6280.0         116.0   \n",
       "\n",
       "    Total_Votes  Percentage_of_Votes  Result  \n",
       "0        102436                50.58       1  \n",
       "1         78040                38.54       0  \n",
       "2          8254                 4.08       0  \n",
       "3          6017                 2.97       0  \n",
       "4          2203                 1.09       0  \n",
       "5           914                 0.45       0  \n",
       "6           719                 0.36       0  \n",
       "7           542                 0.27       0  \n",
       "8           507                 0.25       0  \n",
       "9           380                 0.19       0  \n",
       "10          351                 0.17       0  \n",
       "11          342                 0.17       0  \n",
       "12         1809                 0.89       0  \n",
       "13       796981                61.25       1  \n",
       "14       454785                34.95       0  \n",
       "15        15082                 1.16       0  \n",
       "16         5388                 0.41       0  \n",
       "17         3741                 0.29       0  \n",
       "18         2977                 0.23       0  \n",
       "19         2111                 0.16       0  \n",
       "20         1745                 0.13       0  \n",
       "21          872                 0.07       0  \n",
       "22          740                 0.06       0  \n",
       "23          719                 0.06       0  \n",
       "24          726                 0.06       0  \n",
       "25          635                 0.05       0  \n",
       "26          581                 0.04       0  \n",
       "27          505                 0.04       0  \n",
       "28        13518                 1.04       0  \n",
       "29       762069                57.50       1  \n",
       "30       465539                35.13       0  \n",
       "31        25651                 1.94       0  \n",
       "32        19157                 1.45       0  \n",
       "33         4002                 0.30       0  \n",
       "34         3852                 0.29       0  \n",
       "35         3557                 0.27       0  \n",
       "36         3124                 0.24       0  \n",
       "37         2619                 0.20       0  \n",
       "38         2184                 0.16       0  \n",
       "39         1913                 0.14       0  \n",
       "40         1591                 0.12       0  \n",
       "41         1576                 0.12       0  \n",
       "42         1201                 0.09       0  \n",
       "43         1062                 0.08       0  \n",
       "44        26235                 1.98       0  \n",
       "45       768245                53.33       1  \n",
       "46       579690                40.24       0  \n",
       "47        43217                 3.00       0  \n",
       "48         6439                 0.45       0  \n",
       "49         6396                 0.44       0  "
      ]
     },
     "execution_count": 74,
     "metadata": {},
     "output_type": "execute_result"
    }
   ],
   "source": [
    "election_data_ML.head(50)"
   ]
  },
  {
   "cell_type": "markdown",
   "id": "a9e01c7a",
   "metadata": {},
   "source": [
    "#### Define Features and Target:"
   ]
  },
  {
   "cell_type": "code",
   "execution_count": 75,
   "id": "365012e9",
   "metadata": {},
   "outputs": [
    {
     "data": {
      "text/plain": [
       "Index(['ID', 'State', 'Constituency', 'Candidate', 'Party', 'EVM_Votes',\n",
       "       'Postal_Votes', 'Total_Votes', 'Percentage_of_Votes', 'Result'],\n",
       "      dtype='object')"
      ]
     },
     "execution_count": 75,
     "metadata": {},
     "output_type": "execute_result"
    }
   ],
   "source": [
    "election_data_ML.columns"
   ]
  },
  {
   "cell_type": "code",
   "execution_count": 76,
   "id": "e7b2d53a",
   "metadata": {},
   "outputs": [],
   "source": [
    "features = election_data_ML[['EVM_Votes', 'Postal_Votes', 'Total_Votes', 'Percentage_of_Votes']]"
   ]
  },
  {
   "cell_type": "code",
   "execution_count": 77,
   "id": "fb8cd56f",
   "metadata": {},
   "outputs": [
    {
     "data": {
      "text/plain": [
       "Index(['EVM_Votes', 'Postal_Votes', 'Total_Votes', 'Percentage_of_Votes'], dtype='object')"
      ]
     },
     "execution_count": 77,
     "metadata": {},
     "output_type": "execute_result"
    }
   ],
   "source": [
    "features.columns"
   ]
  },
  {
   "cell_type": "code",
   "execution_count": 78,
   "id": "5be64304",
   "metadata": {},
   "outputs": [
    {
     "data": {
      "text/html": [
       "<div>\n",
       "<style scoped>\n",
       "    .dataframe tbody tr th:only-of-type {\n",
       "        vertical-align: middle;\n",
       "    }\n",
       "\n",
       "    .dataframe tbody tr th {\n",
       "        vertical-align: top;\n",
       "    }\n",
       "\n",
       "    .dataframe thead th {\n",
       "        text-align: right;\n",
       "    }\n",
       "</style>\n",
       "<table border=\"1\" class=\"dataframe\">\n",
       "  <thead>\n",
       "    <tr style=\"text-align: right;\">\n",
       "      <th></th>\n",
       "      <th>EVM_Votes</th>\n",
       "      <th>Postal_Votes</th>\n",
       "      <th>Total_Votes</th>\n",
       "      <th>Percentage_of_Votes</th>\n",
       "    </tr>\n",
       "  </thead>\n",
       "  <tbody>\n",
       "    <tr>\n",
       "      <th>0</th>\n",
       "      <td>102182.0</td>\n",
       "      <td>254.0</td>\n",
       "      <td>102436</td>\n",
       "      <td>50.58</td>\n",
       "    </tr>\n",
       "    <tr>\n",
       "      <th>1</th>\n",
       "      <td>77829.0</td>\n",
       "      <td>211.0</td>\n",
       "      <td>78040</td>\n",
       "      <td>38.54</td>\n",
       "    </tr>\n",
       "    <tr>\n",
       "      <th>2</th>\n",
       "      <td>8236.0</td>\n",
       "      <td>18.0</td>\n",
       "      <td>8254</td>\n",
       "      <td>4.08</td>\n",
       "    </tr>\n",
       "    <tr>\n",
       "      <th>3</th>\n",
       "      <td>6009.0</td>\n",
       "      <td>8.0</td>\n",
       "      <td>6017</td>\n",
       "      <td>2.97</td>\n",
       "    </tr>\n",
       "    <tr>\n",
       "      <th>4</th>\n",
       "      <td>2195.0</td>\n",
       "      <td>8.0</td>\n",
       "      <td>2203</td>\n",
       "      <td>1.09</td>\n",
       "    </tr>\n",
       "    <tr>\n",
       "      <th>5</th>\n",
       "      <td>911.0</td>\n",
       "      <td>3.0</td>\n",
       "      <td>914</td>\n",
       "      <td>0.45</td>\n",
       "    </tr>\n",
       "    <tr>\n",
       "      <th>6</th>\n",
       "      <td>714.0</td>\n",
       "      <td>5.0</td>\n",
       "      <td>719</td>\n",
       "      <td>0.36</td>\n",
       "    </tr>\n",
       "    <tr>\n",
       "      <th>7</th>\n",
       "      <td>539.0</td>\n",
       "      <td>3.0</td>\n",
       "      <td>542</td>\n",
       "      <td>0.27</td>\n",
       "    </tr>\n",
       "    <tr>\n",
       "      <th>8</th>\n",
       "      <td>506.0</td>\n",
       "      <td>1.0</td>\n",
       "      <td>507</td>\n",
       "      <td>0.25</td>\n",
       "    </tr>\n",
       "    <tr>\n",
       "      <th>9</th>\n",
       "      <td>378.0</td>\n",
       "      <td>2.0</td>\n",
       "      <td>380</td>\n",
       "      <td>0.19</td>\n",
       "    </tr>\n",
       "  </tbody>\n",
       "</table>\n",
       "</div>"
      ],
      "text/plain": [
       "   EVM_Votes  Postal_Votes  Total_Votes  Percentage_of_Votes\n",
       "0   102182.0         254.0       102436                50.58\n",
       "1    77829.0         211.0        78040                38.54\n",
       "2     8236.0          18.0         8254                 4.08\n",
       "3     6009.0           8.0         6017                 2.97\n",
       "4     2195.0           8.0         2203                 1.09\n",
       "5      911.0           3.0          914                 0.45\n",
       "6      714.0           5.0          719                 0.36\n",
       "7      539.0           3.0          542                 0.27\n",
       "8      506.0           1.0          507                 0.25\n",
       "9      378.0           2.0          380                 0.19"
      ]
     },
     "execution_count": 78,
     "metadata": {},
     "output_type": "execute_result"
    }
   ],
   "source": [
    "features.head(10)"
   ]
  },
  {
   "cell_type": "code",
   "execution_count": 79,
   "id": "150b57b6",
   "metadata": {},
   "outputs": [],
   "source": [
    "target = election_data_ML[['Result']]"
   ]
  },
  {
   "cell_type": "code",
   "execution_count": 80,
   "id": "af4479fd",
   "metadata": {},
   "outputs": [
    {
     "data": {
      "text/plain": [
       "Index(['Result'], dtype='object')"
      ]
     },
     "execution_count": 80,
     "metadata": {},
     "output_type": "execute_result"
    }
   ],
   "source": [
    "target.columns"
   ]
  },
  {
   "cell_type": "code",
   "execution_count": 81,
   "id": "b4ad4f9d",
   "metadata": {},
   "outputs": [
    {
     "data": {
      "text/html": [
       "<div>\n",
       "<style scoped>\n",
       "    .dataframe tbody tr th:only-of-type {\n",
       "        vertical-align: middle;\n",
       "    }\n",
       "\n",
       "    .dataframe tbody tr th {\n",
       "        vertical-align: top;\n",
       "    }\n",
       "\n",
       "    .dataframe thead th {\n",
       "        text-align: right;\n",
       "    }\n",
       "</style>\n",
       "<table border=\"1\" class=\"dataframe\">\n",
       "  <thead>\n",
       "    <tr style=\"text-align: right;\">\n",
       "      <th></th>\n",
       "      <th>Result</th>\n",
       "    </tr>\n",
       "  </thead>\n",
       "  <tbody>\n",
       "    <tr>\n",
       "      <th>0</th>\n",
       "      <td>1</td>\n",
       "    </tr>\n",
       "    <tr>\n",
       "      <th>1</th>\n",
       "      <td>0</td>\n",
       "    </tr>\n",
       "    <tr>\n",
       "      <th>2</th>\n",
       "      <td>0</td>\n",
       "    </tr>\n",
       "    <tr>\n",
       "      <th>3</th>\n",
       "      <td>0</td>\n",
       "    </tr>\n",
       "    <tr>\n",
       "      <th>4</th>\n",
       "      <td>0</td>\n",
       "    </tr>\n",
       "    <tr>\n",
       "      <th>5</th>\n",
       "      <td>0</td>\n",
       "    </tr>\n",
       "    <tr>\n",
       "      <th>6</th>\n",
       "      <td>0</td>\n",
       "    </tr>\n",
       "    <tr>\n",
       "      <th>7</th>\n",
       "      <td>0</td>\n",
       "    </tr>\n",
       "    <tr>\n",
       "      <th>8</th>\n",
       "      <td>0</td>\n",
       "    </tr>\n",
       "    <tr>\n",
       "      <th>9</th>\n",
       "      <td>0</td>\n",
       "    </tr>\n",
       "  </tbody>\n",
       "</table>\n",
       "</div>"
      ],
      "text/plain": [
       "   Result\n",
       "0       1\n",
       "1       0\n",
       "2       0\n",
       "3       0\n",
       "4       0\n",
       "5       0\n",
       "6       0\n",
       "7       0\n",
       "8       0\n",
       "9       0"
      ]
     },
     "execution_count": 81,
     "metadata": {},
     "output_type": "execute_result"
    }
   ],
   "source": [
    "target.head(10)"
   ]
  },
  {
   "cell_type": "markdown",
   "id": "300086b6",
   "metadata": {},
   "source": [
    "#### Split train-test data"
   ]
  },
  {
   "cell_type": "code",
   "execution_count": 82,
   "id": "d89aff55",
   "metadata": {},
   "outputs": [],
   "source": [
    "X_train, X_test, y_train, y_test = train_test_split(features, target, test_size=0.3, random_state=42)"
   ]
  },
  {
   "cell_type": "markdown",
   "id": "3b3763b1",
   "metadata": {},
   "source": [
    "#### Standardization"
   ]
  },
  {
   "cell_type": "code",
   "execution_count": 83,
   "id": "a660b630",
   "metadata": {},
   "outputs": [],
   "source": [
    "scaler = StandardScaler()\n",
    "X_train = scaler.fit_transform(X_train)\n",
    "X_test = scaler.transform(X_test)"
   ]
  },
  {
   "cell_type": "code",
   "execution_count": 84,
   "id": "101952a8",
   "metadata": {},
   "outputs": [],
   "source": [
    "performance = {}\n",
    "confusion_matrices = {}"
   ]
  },
  {
   "cell_type": "markdown",
   "id": "a0acd5cb",
   "metadata": {},
   "source": [
    "# "
   ]
  },
  {
   "cell_type": "markdown",
   "id": "63058d55",
   "metadata": {},
   "source": [
    "## Step 11- Building Machine Learning ALgorithms"
   ]
  },
  {
   "cell_type": "markdown",
   "id": "05a771a0",
   "metadata": {},
   "source": [
    "### 11.1 Logistic Regression:"
   ]
  },
  {
   "cell_type": "code",
   "execution_count": 85,
   "id": "2398a23d",
   "metadata": {},
   "outputs": [
    {
     "name": "stderr",
     "output_type": "stream",
     "text": [
      "C:\\Users\\VJahn\\anaconda3\\Lib\\site-packages\\sklearn\\utils\\validation.py:1143: DataConversionWarning: A column-vector y was passed when a 1d array was expected. Please change the shape of y to (n_samples, ), for example using ravel().\n",
      "  y = column_or_1d(y, warn=True)\n"
     ]
    }
   ],
   "source": [
    "log_model = LogisticRegression(random_state=42)\n",
    "log_model.fit(X_train, y_train)\n",
    "y_pred_log = log_model.predict(X_test)\n",
    "performance['Logistic Regression'] = accuracy_score(y_test, y_pred_log)\n",
    "log_matrix = confusion_matrix(y_test, y_pred_log)"
   ]
  },
  {
   "cell_type": "code",
   "execution_count": 86,
   "id": "00e221e8",
   "metadata": {},
   "outputs": [
    {
     "name": "stdout",
     "output_type": "stream",
     "text": [
      "Logistic Regression Accuracy: 0.9797828528640958\n",
      "Logistic Regresssion Classification Report:\n",
      "               precision    recall  f1-score   support\n",
      "\n",
      "           0       0.99      0.99      0.99      2500\n",
      "           1       0.86      0.82      0.84       171\n",
      "\n",
      "    accuracy                           0.98      2671\n",
      "   macro avg       0.92      0.90      0.91      2671\n",
      "weighted avg       0.98      0.98      0.98      2671\n",
      "\n"
     ]
    }
   ],
   "source": [
    "print(f\"Logistic Regression Accuracy: {performance['Logistic Regression']}\")\n",
    "print(\"Logistic Regresssion Classification Report:\\n\", classification_report(y_test, y_pred_log))"
   ]
  },
  {
   "cell_type": "code",
   "execution_count": 87,
   "id": "754a020a",
   "metadata": {},
   "outputs": [
    {
     "data": {
      "image/png": "[encoded data removed]",
      "text/plain": [
       "<Figure size 600x400 with 1 Axes>"
      ]
     },
     "metadata": {},
     "output_type": "display_data"
    }
   ],
   "source": [
    "plt.figure(figsize=(6, 4))\n",
    "sns.heatmap(log_matrix, annot=True, fmt='d', cmap='YlGnBu', cbar=False,\n",
    "            xticklabels=['Actual Negative: 0', 'Actual Positive: 1'],\n",
    "            yticklabels=['Predict Negative: 0', 'Predict Positive: 1'])\n",
    "plt.title('Logistic Regression Confusion Matrix')\n",
    "plt.xlabel('Actual')\n",
    "plt.ylabel('Predicted')\n",
    "plt.show()"
   ]
  },
  {
   "cell_type": "markdown",
   "id": "6bbffe6d",
   "metadata": {},
   "source": [
    "### 11.2 Decision Tree:"
   ]
  },
  {
   "cell_type": "code",
   "execution_count": 88,
   "id": "d7f1ee12",
   "metadata": {},
   "outputs": [],
   "source": [
    "tree_model = DecisionTreeClassifier(random_state=42)\n",
    "tree_model.fit(X_train, y_train)\n",
    "y_pred_tree = tree_model.predict(X_test)\n",
    "performance['Decision Tree'] = accuracy_score(y_test, y_pred_tree)\n",
    "tree_matrix = confusion_matrix(y_test, y_pred_tree)"
   ]
  },
  {
   "cell_type": "code",
   "execution_count": 89,
   "id": "cf86fd10",
   "metadata": {},
   "outputs": [
    {
     "name": "stdout",
     "output_type": "stream",
     "text": [
      "Decision Tree Accuracy: 0.976787719955073\n",
      "Decision Tree Classification Report:\n",
      "               precision    recall  f1-score   support\n",
      "\n",
      "           0       0.99      0.99      0.99      2500\n",
      "           1       0.83      0.80      0.82       171\n",
      "\n",
      "    accuracy                           0.98      2671\n",
      "   macro avg       0.91      0.89      0.90      2671\n",
      "weighted avg       0.98      0.98      0.98      2671\n",
      "\n"
     ]
    }
   ],
   "source": [
    "print(f\"Decision Tree Accuracy: {performance['Decision Tree']}\")\n",
    "print(\"Decision Tree Classification Report:\\n\", classification_report(y_test, y_pred_tree))"
   ]
  },
  {
   "cell_type": "code",
   "execution_count": 90,
   "id": "20872e3d",
   "metadata": {},
   "outputs": [
    {
     "data": {
      "image/png": "[encoded data removed]",
      "text/plain": [
       "<Figure size 600x400 with 1 Axes>"
      ]
     },
     "metadata": {},
     "output_type": "display_data"
    }
   ],
   "source": [
    "plt.figure(figsize=(6, 4))\n",
    "sns.heatmap(tree_matrix, annot=True, fmt='d', cmap='PuBu', cbar=False,\n",
    "            xticklabels=['Actual Negative: 0', 'Actual Positive: 1'],\n",
    "            yticklabels=['Predict Negative: 0', 'Predict Positive: 1'])\n",
    "plt.title('Decision Tree Confusion Matrix')\n",
    "plt.xlabel('Actual')\n",
    "plt.ylabel('Predicted')\n",
    "plt.show()"
   ]
  },
  {
   "cell_type": "markdown",
   "id": "d8b8dd11",
   "metadata": {},
   "source": [
    "### 11.3 Random Forest:"
   ]
  },
  {
   "cell_type": "code",
   "execution_count": 91,
   "id": "675953c5",
   "metadata": {},
   "outputs": [
    {
     "name": "stderr",
     "output_type": "stream",
     "text": [
      "C:\\Users\\VJahn\\AppData\\Local\\Temp\\ipykernel_6788\\1537247680.py:2: DataConversionWarning: A column-vector y was passed when a 1d array was expected. Please change the shape of y to (n_samples,), for example using ravel().\n",
      "  rf_model.fit(X_train, y_train)\n"
     ]
    }
   ],
   "source": [
    "rf_model = RandomForestClassifier(n_estimators=100, random_state=42)\n",
    "rf_model.fit(X_train, y_train)\n",
    "y_pred_rf = rf_model.predict(X_test)\n",
    "performance['Random Forest'] = accuracy_score(y_test, y_pred_rf)\n",
    "rf_matrix = confusion_matrix(y_test, y_pred_rf)"
   ]
  },
  {
   "cell_type": "code",
   "execution_count": 92,
   "id": "49b07f5b",
   "metadata": {},
   "outputs": [
    {
     "name": "stdout",
     "output_type": "stream",
     "text": [
      "Random Forest Accuracy: 0.9797828528640958\n",
      "Decision Tree Classification Report:\n",
      "               precision    recall  f1-score   support\n",
      "\n",
      "           0       0.99      0.99      0.99      2500\n",
      "           1       0.88      0.79      0.83       171\n",
      "\n",
      "    accuracy                           0.98      2671\n",
      "   macro avg       0.93      0.89      0.91      2671\n",
      "weighted avg       0.98      0.98      0.98      2671\n",
      "\n"
     ]
    }
   ],
   "source": [
    "print(f\"Random Forest Accuracy: {performance['Random Forest']}\")\n",
    "print(\"Decision Tree Classification Report:\\n\", classification_report(y_test, y_pred_rf))"
   ]
  },
  {
   "cell_type": "code",
   "execution_count": 93,
   "id": "5544631f",
   "metadata": {},
   "outputs": [
    {
     "data": {
      "image/png": "[encoded data removed]",
      "text/plain": [
       "<Figure size 600x400 with 1 Axes>"
      ]
     },
     "metadata": {},
     "output_type": "display_data"
    }
   ],
   "source": [
    "plt.figure(figsize=(6, 4))\n",
    "sns.heatmap(rf_matrix, annot=True, fmt='d', cmap='Blues', cbar=False,\n",
    "            xticklabels=['Actual Negative: 0', 'Actual Positive: 1'],\n",
    "            yticklabels=['Predict Negative: 0', 'Predict Positive: 1'])\n",
    "plt.title('Decision Tree Confusion Matrix')\n",
    "plt.xlabel('Actual')\n",
    "plt.ylabel('Predicted')\n",
    "plt.show()"
   ]
  },
  {
   "cell_type": "markdown",
   "id": "75774f8c",
   "metadata": {},
   "source": [
    "### 11.4 K-Nearest Neighbour:"
   ]
  },
  {
   "cell_type": "code",
   "execution_count": 94,
   "id": "d19745f4",
   "metadata": {},
   "outputs": [
    {
     "name": "stderr",
     "output_type": "stream",
     "text": [
      "C:\\Users\\VJahn\\anaconda3\\Lib\\site-packages\\sklearn\\neighbors\\_classification.py:215: DataConversionWarning: A column-vector y was passed when a 1d array was expected. Please change the shape of y to (n_samples,), for example using ravel().\n",
      "  return self._fit(X, y)\n"
     ]
    }
   ],
   "source": [
    "knn_model = KNeighborsClassifier()\n",
    "knn_model.fit(X_train, y_train)\n",
    "y_pred_knn = knn_model.predict(X_test)\n",
    "performance['K-Nearest Neighbors'] = accuracy_score(y_test, y_pred_knn)\n",
    "knn_matrix = confusion_matrix(y_test, y_pred_knn)"
   ]
  },
  {
   "cell_type": "code",
   "execution_count": 95,
   "id": "c1f5687f",
   "metadata": {},
   "outputs": [
    {
     "name": "stdout",
     "output_type": "stream",
     "text": [
      "K-Nearest Neighbors Accuracy: 0.974166978659678\n",
      "Decision Tree Classification Report:\n",
      "               precision    recall  f1-score   support\n",
      "\n",
      "           0       0.98      0.99      0.99      2500\n",
      "           1       0.82      0.76      0.79       171\n",
      "\n",
      "    accuracy                           0.97      2671\n",
      "   macro avg       0.90      0.87      0.89      2671\n",
      "weighted avg       0.97      0.97      0.97      2671\n",
      "\n"
     ]
    }
   ],
   "source": [
    "print(f\"K-Nearest Neighbors Accuracy: {performance['K-Nearest Neighbors']}\")\n",
    "print(\"Decision Tree Classification Report:\\n\", classification_report(y_test, y_pred_knn))"
   ]
  },
  {
   "cell_type": "code",
   "execution_count": 96,
   "id": "db0ce33e",
   "metadata": {},
   "outputs": [
    {
     "data": {
      "image/png": "[encoded data removed]",
      "text/plain": [
       "<Figure size 600x400 with 1 Axes>"
      ]
     },
     "metadata": {},
     "output_type": "display_data"
    }
   ],
   "source": [
    "plt.figure(figsize=(6, 4))\n",
    "sns.heatmap(knn_matrix, annot=True, fmt='d', cmap='YlGnBu', cbar=False,\n",
    "            xticklabels=['Actual Negative: 0', 'Actual Positive: 1'],\n",
    "            yticklabels=['Predict Negative: 0', 'Predict Positive: 1'])\n",
    "plt.title('Decision Tree Confusion Matrix')\n",
    "plt.xlabel('Actual')\n",
    "plt.ylabel('Predicted')\n",
    "plt.show()"
   ]
  },
  {
   "cell_type": "markdown",
   "id": "c208bb27",
   "metadata": {},
   "source": [
    "### 11.5 Naive Bayes:"
   ]
  },
  {
   "cell_type": "code",
   "execution_count": 97,
   "id": "bde4a4b4",
   "metadata": {},
   "outputs": [
    {
     "name": "stderr",
     "output_type": "stream",
     "text": [
      "C:\\Users\\VJahn\\anaconda3\\Lib\\site-packages\\sklearn\\utils\\validation.py:1143: DataConversionWarning: A column-vector y was passed when a 1d array was expected. Please change the shape of y to (n_samples, ), for example using ravel().\n",
      "  y = column_or_1d(y, warn=True)\n"
     ]
    }
   ],
   "source": [
    "nb_model = GaussianNB()\n",
    "nb_model.fit(X_train, y_train)\n",
    "y_pred_nb = nb_model.predict(X_test)\n",
    "performance['Naive Bayes'] = accuracy_score(y_test, y_pred_nb)\n",
    "nb_matrix = confusion_matrix(y_test, y_pred_nb)"
   ]
  },
  {
   "cell_type": "code",
   "execution_count": 98,
   "id": "419b1e3b",
   "metadata": {},
   "outputs": [
    {
     "name": "stdout",
     "output_type": "stream",
     "text": [
      "Naive Bayes Performance: 0.9494571321602396\n",
      "Decision Tree Classification Report:\n",
      "               precision    recall  f1-score   support\n",
      "\n",
      "           0       1.00      0.95      0.97      2500\n",
      "           1       0.56      0.98      0.71       171\n",
      "\n",
      "    accuracy                           0.95      2671\n",
      "   macro avg       0.78      0.96      0.84      2671\n",
      "weighted avg       0.97      0.95      0.96      2671\n",
      "\n"
     ]
    }
   ],
   "source": [
    "print(f\"Naive Bayes Performance: {performance['Naive Bayes']}\")\n",
    "print(\"Decision Tree Classification Report:\\n\", classification_report(y_test, y_pred_nb))"
   ]
  },
  {
   "cell_type": "code",
   "execution_count": 99,
   "id": "0e451ec3",
   "metadata": {},
   "outputs": [
    {
     "data": {
      "image/png": "[encoded data removed]",
      "text/plain": [
       "<Figure size 600x400 with 1 Axes>"
      ]
     },
     "metadata": {},
     "output_type": "display_data"
    }
   ],
   "source": [
    "plt.figure(figsize=(6, 4))\n",
    "sns.heatmap(nb_matrix, annot=True, fmt='d', cmap='PuBu', cbar=False,\n",
    "            xticklabels=['Actual Negative: 0', 'Actual Positive: 1'],\n",
    "            yticklabels=['Predict Negative: 0', 'Predict Positive: 1'])\n",
    "plt.title('Decision Tree Confusion Matrix')\n",
    "plt.xlabel('Actual')\n",
    "plt.ylabel('Predicted')\n",
    "plt.show()"
   ]
  },
  {
   "cell_type": "markdown",
   "id": "86f8d39d",
   "metadata": {},
   "source": [
    "## Step 12- Comparison of all Machine Learning Models"
   ]
  },
  {
   "cell_type": "code",
   "execution_count": 100,
   "id": "034174a3",
   "metadata": {},
   "outputs": [],
   "source": [
    "performance_df = pd.DataFrame(list(performance.items()), columns=['Model', 'Accuracy'])"
   ]
  },
  {
   "cell_type": "code",
   "execution_count": 101,
   "id": "84447564",
   "metadata": {},
   "outputs": [
    {
     "data": {
      "image/png": "[encoded data removed]",
      "text/plain": [
       "<Figure size 1200x600 with 1 Axes>"
      ]
     },
     "metadata": {},
     "output_type": "display_data"
    }
   ],
   "source": [
    "plt.figure(figsize=(12, 6))\n",
    "plt.plot(performance_df['Model'], performance_df['Accuracy'], marker='o', linestyle='-')\n",
    "plt.title('Comparison of Model Accuracies')\n",
    "plt.xlabel('Model')\n",
    "plt.ylabel('Accuracy')\n",
    "plt.xticks(rotation=45)\n",
    "plt.grid(True)\n",
    "plt.show()"
   ]
  },
  {
   "cell_type": "code",
   "execution_count": 102,
   "id": "3eed0d9b",
   "metadata": {},
   "outputs": [
    {
     "name": "stdout",
     "output_type": "stream",
     "text": [
      "Model Performance Comparison:\n",
      "                 Model  Accuracy\n",
      "0  Logistic Regression  0.979783\n",
      "1        Decision Tree  0.976788\n",
      "2        Random Forest  0.979783\n",
      "3  K-Nearest Neighbors  0.974167\n",
      "4          Naive Bayes  0.949457\n"
     ]
    }
   ],
   "source": [
    "print(\"Model Performance Comparison:\")\n",
    "print(performance_df)"
   ]
  },
  {
   "cell_type": "markdown",
   "id": "e409388a",
   "metadata": {},
   "source": [
    "#### Logistic Regression, Decision Tree, and Random Forest:"
   ]
  },
  {
   "cell_type": "markdown",
   "id": "b5678eaa",
   "metadata": {},
   "source": [
    "- Logistic Regression, Random Forest, and Decision Tree models perform very similarly with high accuracy scores around 97.7% to 97.9%.\n",
    "- These models are well-suited for classification task, indicating robust performance in predicting election outcomes based on the given features and data."
   ]
  },
  {
   "cell_type": "markdown",
   "id": "1349bcb3",
   "metadata": {},
   "source": [
    "### Conclusion"
   ]
  },
  {
   "cell_type": "markdown",
   "id": "0ab04615",
   "metadata": {},
   "source": [
    "- Based on our analysis of the election data, we noticed clear voting trends across different areas, particularly regarding EVM and postal votes.\n",
    "- This analysis highlighted that total votes play a crucial role in determining election outcomes.\n",
    "- Among the models evaluated, the Logistic Regression and Random Forest Model demonstrated superior predictive accuracy in forecasting election results based on available data."
   ]
  },
  {
   "cell_type": "markdown",
   "id": "a8bbe051",
   "metadata": {},
   "source": [
    "### -----------------------------------------------------------------------------------------------------------------------------------------------------------"
   ]
  }
 ],
 "metadata": {
  "kernelspec": {
   "display_name": "Python 3 (ipykernel)",
   "language": "python",
   "name": "python3"
  },
  "language_info": {
   "codemirror_mode": {
    "name": "ipython",
    "version": 3
   },
   "file_extension": ".py",
   "mimetype": "text/x-python",
   "name": "python",
   "nbconvert_exporter": "python",
   "pygments_lexer": "ipython3",
   "version": "3.11.7"
  }
 },
 "nbformat": 4,
 "nbformat_minor": 5
}
